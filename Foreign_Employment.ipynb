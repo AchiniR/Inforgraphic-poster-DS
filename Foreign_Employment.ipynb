{
  "cells": [
    {
      "cell_type": "markdown",
      "metadata": {
        "id": "view-in-github",
        "colab_type": "text"
      },
      "source": [
        "<a href=\"https://colab.research.google.com/github/AchiniR/Inforgraphic-poster-DS/blob/main/Foreign_Employment.ipynb\" target=\"_parent\"><img src=\"https://colab.research.google.com/assets/colab-badge.svg\" alt=\"Open In Colab\"/></a>"
      ]
    },
    {
      "cell_type": "code",
      "execution_count": 86,
      "metadata": {
        "id": "mBqCWGxfvEF6"
      },
      "outputs": [],
      "source": [
        "import seaborn as sns\n",
        "import matplotlib.pyplot as plt\n",
        "import pandas as pd\n",
        "from sklearn.model_selection import train_test_split\n",
        "from sklearn.metrics import accuracy_score\n",
        "import xgboost as xgb\n",
        "from sklearn.linear_model import LinearRegression\n",
        "from sklearn.metrics import accuracy_score\n",
        "from sklearn.ensemble import GradientBoostingRegressor\n",
        "import numpy as np\n",
        "from sklearn.preprocessing import MinMaxScaler\n",
        "from sklearn.preprocessing import LabelEncoder"
      ]
    },
    {
      "cell_type": "code",
      "execution_count": 87,
      "metadata": {
        "colab": {
          "base_uri": "https://localhost:8080/"
        },
        "id": "zk7GzZW0va2L",
        "outputId": "4737a779-d996-4f63-8029-cc730984f897"
      },
      "outputs": [
        {
          "output_type": "stream",
          "name": "stderr",
          "text": [
            "<ipython-input-87-286c90d895c4>:1: FutureWarning: The error_bad_lines argument has been deprecated and will be removed in a future version. Use on_bad_lines in the future.\n",
            "\n",
            "\n",
            "  fe = pd.read_csv('/content/drive/MyDrive/Datasets/departures_for_foreign_employment_1986_2012_0.csv',  error_bad_lines=False)\n",
            "<ipython-input-87-286c90d895c4>:3: FutureWarning: The error_bad_lines argument has been deprecated and will be removed in a future version. Use on_bad_lines in the future.\n",
            "\n",
            "\n",
            "  fem = pd.read_csv('/content/drive/MyDrive/Datasets/departures_for_foreign_employment_by_manpower_level_1994_2012_0.csv',  error_bad_lines=False)\n",
            "<ipython-input-87-286c90d895c4>:5: FutureWarning: The error_bad_lines argument has been deprecated and will be removed in a future version. Use on_bad_lines in the future.\n",
            "\n",
            "\n",
            "  net_migrants = pd.read_csv('/content/drive/MyDrive/Datasets/net-migrants.csv',  error_bad_lines=False)\n"
          ]
        }
      ],
      "source": [
        "fe = pd.read_csv('/content/drive/MyDrive/Datasets/departures_for_foreign_employment_1986_2012_0.csv',  error_bad_lines=False)\n",
        "\n",
        "fem = pd.read_csv('/content/drive/MyDrive/Datasets/departures_for_foreign_employment_by_manpower_level_1994_2012_0.csv',  error_bad_lines=False)\n",
        "\n",
        "net_migrants = pd.read_csv('/content/drive/MyDrive/Datasets/net-migrants.csv',  error_bad_lines=False)\n"
      ]
    },
    {
      "cell_type": "markdown",
      "metadata": {
        "id": "vbBFyh5t-3ju"
      },
      "source": [
        "# Analyze foreign_employment dataset"
      ]
    },
    {
      "cell_type": "code",
      "execution_count": 88,
      "metadata": {
        "colab": {
          "base_uri": "https://localhost:8080/"
        },
        "id": "lWczPau3wmjC",
        "outputId": "8a0f0758-94e7-4a71-deee-b38125ac89cb"
      },
      "outputs": [
        {
          "output_type": "stream",
          "name": "stdout",
          "text": [
            "<class 'pandas.core.frame.DataFrame'>\n",
            "RangeIndex: 27 entries, 0 to 26\n",
            "Data columns (total 6 columns):\n",
            " #   Column        Non-Null Count  Dtype  \n",
            "---  ------        --------------  -----  \n",
            " 0   Year          27 non-null     int64  \n",
            " 1   Male No.      27 non-null     int64  \n",
            " 2   Male %        27 non-null     float64\n",
            " 3    Female No.   27 non-null     int64  \n",
            " 4   Female %      27 non-null     float64\n",
            " 5    Total        27 non-null     int64  \n",
            "dtypes: float64(2), int64(4)\n",
            "memory usage: 1.4 KB\n"
          ]
        }
      ],
      "source": [
        "fe.info()"
      ]
    },
    {
      "cell_type": "code",
      "execution_count": 89,
      "metadata": {
        "colab": {
          "base_uri": "https://localhost:8080/"
        },
        "id": "QadjDpf033Dc",
        "outputId": "65bbfffe-d0e1-4e68-a50d-18da23592db5"
      },
      "outputs": [
        {
          "output_type": "execute_result",
          "data": {
            "text/plain": [
              "False    27\n",
              "dtype: int64"
            ]
          },
          "metadata": {},
          "execution_count": 89
        }
      ],
      "source": [
        "# Checking for duplicate records\n",
        "fe.duplicated().value_counts()"
      ]
    },
    {
      "cell_type": "markdown",
      "metadata": {
        "id": "ab-NfUnI3mrz"
      },
      "source": [
        "No missing values or duplicated values"
      ]
    },
    {
      "cell_type": "code",
      "execution_count": 90,
      "metadata": {
        "colab": {
          "base_uri": "https://localhost:8080/"
        },
        "id": "syZ1rcJC9vkp",
        "outputId": "138ce0cb-95b9-48c9-91d2-0c0cf12871bf"
      },
      "outputs": [
        {
          "output_type": "stream",
          "name": "stdout",
          "text": [
            "Minimum year: 1986\n",
            "Maximum year: 2012\n"
          ]
        }
      ],
      "source": [
        "# Getting the minimum and maximum years in the dataset\n",
        "min_value = min(fe['Year'])\n",
        "max_value = max(fe['Year'])\n",
        "\n",
        "print(\"Minimum year:\", min_value)\n",
        "print(\"Maximum year:\", max_value)"
      ]
    },
    {
      "cell_type": "markdown",
      "metadata": {
        "id": "2cX7Csar_W8o"
      },
      "source": [
        "This dataset contains data from 1986 to 2012"
      ]
    },
    {
      "cell_type": "code",
      "execution_count": 91,
      "metadata": {
        "id": "GsH2bko77N0X"
      },
      "outputs": [],
      "source": [
        "# fe['Year'] = pd.to_datetime(fe['Year'], format='%Y')"
      ]
    },
    {
      "cell_type": "code",
      "execution_count": 92,
      "metadata": {
        "colab": {
          "base_uri": "https://localhost:8080/",
          "height": 447
        },
        "id": "cguqRvoy7mXy",
        "outputId": "a49c99d5-b3f0-4985-a581-1dd719f21a8d"
      },
      "outputs": [
        {
          "output_type": "execute_result",
          "data": {
            "text/plain": [
              "<Axes: >"
            ]
          },
          "metadata": {},
          "execution_count": 92
        },
        {
          "output_type": "display_data",
          "data": {
            "text/plain": [
              "<Figure size 640x480 with 1 Axes>"
            ],
            "image/png": "[encoded data removed]"
          },
          "metadata": {}
        }
      ],
      "source": [
        "sns.lineplot(data=fe)"
      ]
    },
    {
      "cell_type": "code",
      "execution_count": 93,
      "metadata": {
        "colab": {
          "base_uri": "https://localhost:8080/",
          "height": 466
        },
        "id": "7jmKug8s80t7",
        "outputId": "f4701a62-e53d-468e-bcd0-5db7162f7434"
      },
      "outputs": [
        {
          "output_type": "execute_result",
          "data": {
            "text/plain": [
              "<Axes: xlabel='Year', ylabel=' Total '>"
            ]
          },
          "metadata": {},
          "execution_count": 93
        },
        {
          "output_type": "display_data",
          "data": {
            "text/plain": [
              "<Figure size 640x480 with 1 Axes>"
            ],
            "image/png": "[encoded data removed]"
          },
          "metadata": {}
        }
      ],
      "source": [
        "sns.lineplot(data=fe, x='Year', y=' Total ')"
      ]
    },
    {
      "cell_type": "markdown",
      "metadata": {
        "id": "L9NEouUg_dvm"
      },
      "source": [
        "# Analyze foreign_employment_by_man_power dataset"
      ]
    },
    {
      "cell_type": "code",
      "execution_count": 94,
      "metadata": {
        "colab": {
          "base_uri": "https://localhost:8080/"
        },
        "id": "DCDrGiFxzkNn",
        "outputId": "cb60f169-5c20-4598-eeb0-ab12344096ba"
      },
      "outputs": [
        {
          "output_type": "stream",
          "name": "stdout",
          "text": [
            "<class 'pandas.core.frame.DataFrame'>\n",
            "RangeIndex: 19 entries, 0 to 18\n",
            "Data columns (total 16 columns):\n",
            " #   Column                  Non-Null Count  Dtype  \n",
            "---  ------                  --------------  -----  \n",
            " 0   Year                    19 non-null     int64  \n",
            " 1   Professional Level No.  19 non-null     int64  \n",
            " 2   Professional Level %    19 non-null     float64\n",
            " 3   Middle Level No.        19 non-null     int64  \n",
            " 4   Middle Level  %         19 non-null     float64\n",
            " 5   Clerical & Related No.  19 non-null     int64  \n",
            " 6   Clerical & Related  %   19 non-null     float64\n",
            " 7   Skilled No.             19 non-null     int64  \n",
            " 8   Skilled %               19 non-null     float64\n",
            " 9   Semi Skilled No.        19 non-null     object \n",
            " 10  Semi Skilled %          19 non-null     object \n",
            " 11  Unskilled No.           19 non-null     int64  \n",
            " 12  Unskilled %             19 non-null     float64\n",
            " 13  Housemaid No.           19 non-null     int64  \n",
            " 14  Housemaid %             19 non-null     float64\n",
            " 15  Total                   19 non-null     int64  \n",
            "dtypes: float64(6), int64(8), object(2)\n",
            "memory usage: 2.5+ KB\n"
          ]
        }
      ],
      "source": [
        "fem.info()"
      ]
    },
    {
      "cell_type": "code",
      "execution_count": 95,
      "metadata": {
        "colab": {
          "base_uri": "https://localhost:8080/"
        },
        "id": "04Hk_gOy4VRk",
        "outputId": "88b5a28e-63e0-43c4-d4ff-3661fdbb7e73"
      },
      "outputs": [
        {
          "output_type": "execute_result",
          "data": {
            "text/plain": [
              "False    19\n",
              "dtype: int64"
            ]
          },
          "metadata": {},
          "execution_count": 95
        }
      ],
      "source": [
        "# Checking for duplicate records\n",
        "fem.duplicated().value_counts()"
      ]
    },
    {
      "cell_type": "code",
      "execution_count": 96,
      "metadata": {
        "colab": {
          "base_uri": "https://localhost:8080/"
        },
        "id": "IWf5GwH6-sem",
        "outputId": "987b0b5f-f7c9-4e6a-f652-ba42e88ca84c"
      },
      "outputs": [
        {
          "output_type": "stream",
          "name": "stdout",
          "text": [
            "Minimum year: 1994\n",
            "Maximum year: 2012\n"
          ]
        }
      ],
      "source": [
        "# Getting the minimum and maximum years in the dataset\n",
        "min_value = min(fem['Year'])\n",
        "max_value = max(fem['Year'])\n",
        "\n",
        "print(\"Minimum year:\", min_value)\n",
        "print(\"Maximum year:\", max_value)"
      ]
    },
    {
      "cell_type": "markdown",
      "metadata": {
        "id": "uC5UD14c_iCu"
      },
      "source": [
        "This dataset contains data from 1994 to 2012"
      ]
    },
    {
      "cell_type": "code",
      "execution_count": 97,
      "metadata": {
        "id": "4WbcdF2I7DYp"
      },
      "outputs": [],
      "source": [
        "# fem['Year'] = pd.to_datetime(fem['Year'], format='%Y')"
      ]
    },
    {
      "cell_type": "code",
      "execution_count": 98,
      "metadata": {
        "colab": {
          "base_uri": "https://localhost:8080/",
          "height": 447
        },
        "id": "nPvw2C2i3Dp2",
        "outputId": "09944cc2-8c54-47d9-a934-e4665e5f5ea1"
      },
      "outputs": [
        {
          "output_type": "execute_result",
          "data": {
            "text/plain": [
              "<Axes: >"
            ]
          },
          "metadata": {},
          "execution_count": 98
        },
        {
          "output_type": "display_data",
          "data": {
            "text/plain": [
              "<Figure size 640x480 with 1 Axes>"
            ],
            "image/png": "[encoded data removed]"
          },
          "metadata": {}
        }
      ],
      "source": [
        "sns.lineplot(data=fem)"
      ]
    },
    {
      "cell_type": "code",
      "execution_count": 99,
      "metadata": {
        "colab": {
          "base_uri": "https://localhost:8080/",
          "height": 466
        },
        "id": "oXRnW2n_9MUk",
        "outputId": "ebed392e-87e5-44f9-8f88-f1d1a9856a2a"
      },
      "outputs": [
        {
          "output_type": "execute_result",
          "data": {
            "text/plain": [
              "<Axes: xlabel='Year', ylabel='Total'>"
            ]
          },
          "metadata": {},
          "execution_count": 99
        },
        {
          "output_type": "display_data",
          "data": {
            "text/plain": [
              "<Figure size 640x480 with 1 Axes>"
            ],
            "image/png": "[encoded data removed]"
          },
          "metadata": {}
        }
      ],
      "source": [
        "sns.lineplot(data=fem, x='Year', y='Total')"
      ]
    },
    {
      "cell_type": "code",
      "execution_count": 100,
      "metadata": {
        "colab": {
          "base_uri": "https://localhost:8080/"
        },
        "id": "sg6PTHV_1lsv",
        "outputId": "bd5fe960-2d93-4507-dd4b-ea0913729854"
      },
      "outputs": [
        {
          "output_type": "stream",
          "name": "stdout",
          "text": [
            "Index(['Country Name', 'Country Code', 'Indicator Name', 'Indicator Code',\n",
            "       '1960', '1961', '1962', '1963', '1964', '1965', '1966', '1967', '1968',\n",
            "       '1969', '1970', '1971', '1972', '1973', '1974', '1975', '1976', '1977',\n",
            "       '1978', '1979', '1980', '1981', '1982', '1983', '1984', '1985', '1986',\n",
            "       '1987', '1988', '1989', '1990', '1991', '1992', '1993', '1994', '1995',\n",
            "       '1996', '1997', '1998', '1999', '2000', '2001', '2002', '2003', '2004',\n",
            "       '2005', '2006', '2007', '2008', '2009', '2010', '2011', '2012', '2013',\n",
            "       '2014', '2015', '2016', '2017', '2018', '2019', '2020', '2021', '2022'],\n",
            "      dtype='object')\n"
          ]
        }
      ],
      "source": [
        "print(net_migrants.columns)"
      ]
    },
    {
      "cell_type": "code",
      "execution_count": 101,
      "metadata": {
        "id": "i_YZe-Yi2OmA"
      },
      "outputs": [],
      "source": [
        "columns_to_drop = ['Country Name', 'Indicator Name', 'Indicator Code']  # List of column names to drop\n",
        "net_migrants = net_migrants.drop(columns=columns_to_drop)"
      ]
    },
    {
      "cell_type": "code",
      "execution_count": 102,
      "metadata": {
        "colab": {
          "base_uri": "https://localhost:8080/"
        },
        "id": "NQ-VKA92_wLm",
        "outputId": "a62f639c-f9fd-42b4-dcf1-39437d22ab14"
      },
      "outputs": [
        {
          "output_type": "stream",
          "name": "stdout",
          "text": [
            "      Country Code  Year  Percentage\n",
            "0              ABW  1960         0.0\n",
            "1              AFE  1960    -90849.0\n",
            "2              AFG  1960      2606.0\n",
            "3              AFW  1960      -847.0\n",
            "4              AGO  1960    -43749.0\n",
            "...            ...   ...         ...\n",
            "16753          XKX  2022     -5000.0\n",
            "16754          YEM  2022    -29998.0\n",
            "16755          ZAF  2022     58496.0\n",
            "16756          ZMB  2022     -5000.0\n",
            "16757          ZWE  2022     -9999.0\n",
            "\n",
            "[16758 rows x 3 columns]\n"
          ]
        }
      ],
      "source": [
        "# Reshape the DataFrame using pd.melt()\n",
        "reshaped_df = pd.melt(net_migrants, id_vars=['Country Code'], var_name='Year', value_name='Percentage')\n",
        "\n",
        "print(reshaped_df)"
      ]
    },
    {
      "cell_type": "code",
      "execution_count": 103,
      "metadata": {
        "colab": {
          "base_uri": "https://localhost:8080/"
        },
        "id": "rzOSZeXjAB78",
        "outputId": "b9ea4ef0-b525-4be9-d63f-11e77a9b7084"
      },
      "outputs": [
        {
          "output_type": "stream",
          "name": "stdout",
          "text": [
            "      Country Code  Year  Percentage\n",
            "138            LKA  1960    -12606.0\n",
            "404            LKA  1961    -11097.0\n",
            "670            LKA  1962     -9899.0\n",
            "936            LKA  1963     -9202.0\n",
            "1202           LKA  1964     -8695.0\n",
            "...            ...   ...         ...\n",
            "15566          LKA  2018    -97100.0\n",
            "15832          LKA  2019    -94897.0\n",
            "16098          LKA  2020    -92400.0\n",
            "16364          LKA  2021    -92400.0\n",
            "16630          LKA  2022    -77495.0\n",
            "\n",
            "[63 rows x 3 columns]\n"
          ]
        }
      ],
      "source": [
        "grouped_df = reshaped_df.groupby('Country Code')\n",
        "\n",
        "country_a_data = grouped_df.get_group('LKA')\n",
        "\n",
        "print(country_a_data)"
      ]
    },
    {
      "cell_type": "code",
      "execution_count": 104,
      "metadata": {
        "id": "9JjCZyyoA2JT"
      },
      "outputs": [],
      "source": [
        "net_migrants_lka = country_a_data.drop(columns=['Country Code'])"
      ]
    },
    {
      "cell_type": "code",
      "execution_count": 105,
      "metadata": {
        "colab": {
          "base_uri": "https://localhost:8080/"
        },
        "id": "a1vWtqAKBrBV",
        "outputId": "99c9880e-5c88-4522-9688-02c44bdb6a65"
      },
      "outputs": [
        {
          "output_type": "stream",
          "name": "stdout",
          "text": [
            "<class 'pandas.core.frame.DataFrame'>\n",
            "Int64Index: 63 entries, 138 to 16630\n",
            "Data columns (total 2 columns):\n",
            " #   Column      Non-Null Count  Dtype  \n",
            "---  ------      --------------  -----  \n",
            " 0   Year        63 non-null     object \n",
            " 1   Percentage  63 non-null     float64\n",
            "dtypes: float64(1), object(1)\n",
            "memory usage: 1.5+ KB\n"
          ]
        }
      ],
      "source": [
        "net_migrants_lka.info()"
      ]
    },
    {
      "cell_type": "code",
      "execution_count": 106,
      "metadata": {
        "id": "TKqNFi1lCyE6"
      },
      "outputs": [],
      "source": [
        "net_migrants_lka[\"Year\"] = pd.to_numeric(net_migrants_lka[\"Year\"])"
      ]
    },
    {
      "cell_type": "code",
      "execution_count": 107,
      "metadata": {
        "id": "WwJFepKrD0KN"
      },
      "outputs": [],
      "source": [
        "net_migrants_filtered = net_migrants_lka[(net_migrants_lka['Year'] < 1960) | (net_migrants_lka['Year'] > 1993)]"
      ]
    },
    {
      "cell_type": "code",
      "execution_count": 108,
      "metadata": {
        "colab": {
          "base_uri": "https://localhost:8080/",
          "height": 959
        },
        "id": "BAi0sqLKDS6G",
        "outputId": "fbf8515a-4a83-4413-9af9-0d5e5b300970"
      },
      "outputs": [
        {
          "output_type": "execute_result",
          "data": {
            "text/plain": [
              "       Year  Percentage\n",
              "9182   1994    -63104.0\n",
              "9448   1995    -73695.0\n",
              "9714   1996    -83689.0\n",
              "9980   1997    -90691.0\n",
              "10246  1998    -92990.0\n",
              "10512  1999    -92896.0\n",
              "10778  2000    -91900.0\n",
              "11044  2001    -15604.0\n",
              "11310  2002    -20309.0\n",
              "11576  2003    -20932.0\n",
              "11842  2004     -1028.0\n",
              "12108  2005    -36955.0\n",
              "12374  2006    -23795.0\n",
              "12640  2007    -19572.0\n",
              "12906  2008    -11557.0\n",
              "13172  2009      5484.0\n",
              "13438  2010    -26603.0\n",
              "13704  2011    -13277.0\n",
              "13970  2012    -97095.0\n",
              "14236  2013    -97189.0\n",
              "14502  2014    -97807.0\n",
              "14768  2015    -98598.0\n",
              "15034  2016    -98896.0\n",
              "15300  2017    -98598.0\n",
              "15566  2018    -97100.0\n",
              "15832  2019    -94897.0\n",
              "16098  2020    -92400.0\n",
              "16364  2021    -92400.0\n",
              "16630  2022    -77495.0"
            ],
            "text/html": [
              "\n",
              "  <div id=\"df-b0ddef5a-cc80-47a8-962e-4152f287eb6e\" class=\"colab-df-container\">\n",
              "    <div>\n",
              "<style scoped>\n",
              "    .dataframe tbody tr th:only-of-type {\n",
              "        vertical-align: middle;\n",
              "    }\n",
              "\n",
              "    .dataframe tbody tr th {\n",
              "        vertical-align: top;\n",
              "    }\n",
              "\n",
              "    .dataframe thead th {\n",
              "        text-align: right;\n",
              "    }\n",
              "</style>\n",
              "<table border=\"1\" class=\"dataframe\">\n",
              "  <thead>\n",
              "    <tr style=\"text-align: right;\">\n",
              "      <th></th>\n",
              "      <th>Year</th>\n",
              "      <th>Percentage</th>\n",
              "    </tr>\n",
              "  </thead>\n",
              "  <tbody>\n",
              "    <tr>\n",
              "      <th>9182</th>\n",
              "      <td>1994</td>\n",
              "      <td>-63104.0</td>\n",
              "    </tr>\n",
              "    <tr>\n",
              "      <th>9448</th>\n",
              "      <td>1995</td>\n",
              "      <td>-73695.0</td>\n",
              "    </tr>\n",
              "    <tr>\n",
              "      <th>9714</th>\n",
              "      <td>1996</td>\n",
              "      <td>-83689.0</td>\n",
              "    </tr>\n",
              "    <tr>\n",
              "      <th>9980</th>\n",
              "      <td>1997</td>\n",
              "      <td>-90691.0</td>\n",
              "    </tr>\n",
              "    <tr>\n",
              "      <th>10246</th>\n",
              "      <td>1998</td>\n",
              "      <td>-92990.0</td>\n",
              "    </tr>\n",
              "    <tr>\n",
              "      <th>10512</th>\n",
              "      <td>1999</td>\n",
              "      <td>-92896.0</td>\n",
              "    </tr>\n",
              "    <tr>\n",
              "      <th>10778</th>\n",
              "      <td>2000</td>\n",
              "      <td>-91900.0</td>\n",
              "    </tr>\n",
              "    <tr>\n",
              "      <th>11044</th>\n",
              "      <td>2001</td>\n",
              "      <td>-15604.0</td>\n",
              "    </tr>\n",
              "    <tr>\n",
              "      <th>11310</th>\n",
              "      <td>2002</td>\n",
              "      <td>-20309.0</td>\n",
              "    </tr>\n",
              "    <tr>\n",
              "      <th>11576</th>\n",
              "      <td>2003</td>\n",
              "      <td>-20932.0</td>\n",
              "    </tr>\n",
              "    <tr>\n",
              "      <th>11842</th>\n",
              "      <td>2004</td>\n",
              "      <td>-1028.0</td>\n",
              "    </tr>\n",
              "    <tr>\n",
              "      <th>12108</th>\n",
              "      <td>2005</td>\n",
              "      <td>-36955.0</td>\n",
              "    </tr>\n",
              "    <tr>\n",
              "      <th>12374</th>\n",
              "      <td>2006</td>\n",
              "      <td>-23795.0</td>\n",
              "    </tr>\n",
              "    <tr>\n",
              "      <th>12640</th>\n",
              "      <td>2007</td>\n",
              "      <td>-19572.0</td>\n",
              "    </tr>\n",
              "    <tr>\n",
              "      <th>12906</th>\n",
              "      <td>2008</td>\n",
              "      <td>-11557.0</td>\n",
              "    </tr>\n",
              "    <tr>\n",
              "      <th>13172</th>\n",
              "      <td>2009</td>\n",
              "      <td>5484.0</td>\n",
              "    </tr>\n",
              "    <tr>\n",
              "      <th>13438</th>\n",
              "      <td>2010</td>\n",
              "      <td>-26603.0</td>\n",
              "    </tr>\n",
              "    <tr>\n",
              "      <th>13704</th>\n",
              "      <td>2011</td>\n",
              "      <td>-13277.0</td>\n",
              "    </tr>\n",
              "    <tr>\n",
              "      <th>13970</th>\n",
              "      <td>2012</td>\n",
              "      <td>-97095.0</td>\n",
              "    </tr>\n",
              "    <tr>\n",
              "      <th>14236</th>\n",
              "      <td>2013</td>\n",
              "      <td>-97189.0</td>\n",
              "    </tr>\n",
              "    <tr>\n",
              "      <th>14502</th>\n",
              "      <td>2014</td>\n",
              "      <td>-97807.0</td>\n",
              "    </tr>\n",
              "    <tr>\n",
              "      <th>14768</th>\n",
              "      <td>2015</td>\n",
              "      <td>-98598.0</td>\n",
              "    </tr>\n",
              "    <tr>\n",
              "      <th>15034</th>\n",
              "      <td>2016</td>\n",
              "      <td>-98896.0</td>\n",
              "    </tr>\n",
              "    <tr>\n",
              "      <th>15300</th>\n",
              "      <td>2017</td>\n",
              "      <td>-98598.0</td>\n",
              "    </tr>\n",
              "    <tr>\n",
              "      <th>15566</th>\n",
              "      <td>2018</td>\n",
              "      <td>-97100.0</td>\n",
              "    </tr>\n",
              "    <tr>\n",
              "      <th>15832</th>\n",
              "      <td>2019</td>\n",
              "      <td>-94897.0</td>\n",
              "    </tr>\n",
              "    <tr>\n",
              "      <th>16098</th>\n",
              "      <td>2020</td>\n",
              "      <td>-92400.0</td>\n",
              "    </tr>\n",
              "    <tr>\n",
              "      <th>16364</th>\n",
              "      <td>2021</td>\n",
              "      <td>-92400.0</td>\n",
              "    </tr>\n",
              "    <tr>\n",
              "      <th>16630</th>\n",
              "      <td>2022</td>\n",
              "      <td>-77495.0</td>\n",
              "    </tr>\n",
              "  </tbody>\n",
              "</table>\n",
              "</div>\n",
              "    <div class=\"colab-df-buttons\">\n",
              "\n",
              "  <div class=\"colab-df-container\">\n",
              "    <button class=\"colab-df-convert\" onclick=\"convertToInteractive('df-b0ddef5a-cc80-47a8-962e-4152f287eb6e')\"\n",
              "            title=\"Convert this dataframe to an interactive table.\"\n",
              "            style=\"display:none;\">\n",
              "\n",
              "  <svg xmlns=\"http://www.w3.org/2000/svg\" height=\"24px\" viewBox=\"0 -960 960 960\">\n",
              "    <path d=\"M120-120v-720h720v720H120Zm60-500h600v-160H180v160Zm220 220h160v-160H400v160Zm0 220h160v-160H400v160ZM180-400h160v-160H180v160Zm440 0h160v-160H620v160ZM180-180h160v-160H180v160Zm440 0h160v-160H620v160Z\"/>\n",
              "  </svg>\n",
              "    </button>\n",
              "\n",
              "  <style>\n",
              "    .colab-df-container {\n",
              "      display:flex;\n",
              "      gap: 12px;\n",
              "    }\n",
              "\n",
              "    .colab-df-convert {\n",
              "      background-color: #E8F0FE;\n",
              "      border: none;\n",
              "      border-radius: 50%;\n",
              "      cursor: pointer;\n",
              "      display: none;\n",
              "      fill: #1967D2;\n",
              "      height: 32px;\n",
              "      padding: 0 0 0 0;\n",
              "      width: 32px;\n",
              "    }\n",
              "\n",
              "    .colab-df-convert:hover {\n",
              "      background-color: #E2EBFA;\n",
              "      box-shadow: 0px 1px 2px rgba(60, 64, 67, 0.3), 0px 1px 3px 1px rgba(60, 64, 67, 0.15);\n",
              "      fill: #174EA6;\n",
              "    }\n",
              "\n",
              "    .colab-df-buttons div {\n",
              "      margin-bottom: 4px;\n",
              "    }\n",
              "\n",
              "    [theme=dark] .colab-df-convert {\n",
              "      background-color: #3B4455;\n",
              "      fill: #D2E3FC;\n",
              "    }\n",
              "\n",
              "    [theme=dark] .colab-df-convert:hover {\n",
              "      background-color: #434B5C;\n",
              "      box-shadow: 0px 1px 3px 1px rgba(0, 0, 0, 0.15);\n",
              "      filter: drop-shadow(0px 1px 2px rgba(0, 0, 0, 0.3));\n",
              "      fill: #FFFFFF;\n",
              "    }\n",
              "  </style>\n",
              "\n",
              "    <script>\n",
              "      const buttonEl =\n",
              "        document.querySelector('#df-b0ddef5a-cc80-47a8-962e-4152f287eb6e button.colab-df-convert');\n",
              "      buttonEl.style.display =\n",
              "        google.colab.kernel.accessAllowed ? 'block' : 'none';\n",
              "\n",
              "      async function convertToInteractive(key) {\n",
              "        const element = document.querySelector('#df-b0ddef5a-cc80-47a8-962e-4152f287eb6e');\n",
              "        const dataTable =\n",
              "          await google.colab.kernel.invokeFunction('convertToInteractive',\n",
              "                                                    [key], {});\n",
              "        if (!dataTable) return;\n",
              "\n",
              "        const docLinkHtml = 'Like what you see? Visit the ' +\n",
              "          '<a target=\"_blank\" href=https://colab.research.google.com/notebooks/data_table.ipynb>data table notebook</a>'\n",
              "          + ' to learn more about interactive tables.';\n",
              "        element.innerHTML = '';\n",
              "        dataTable['output_type'] = 'display_data';\n",
              "        await google.colab.output.renderOutput(dataTable, element);\n",
              "        const docLink = document.createElement('div');\n",
              "        docLink.innerHTML = docLinkHtml;\n",
              "        element.appendChild(docLink);\n",
              "      }\n",
              "    </script>\n",
              "  </div>\n",
              "\n",
              "\n",
              "<div id=\"df-1cf3c86b-2650-4c86-97f7-1fb84d2df4d0\">\n",
              "  <button class=\"colab-df-quickchart\" onclick=\"quickchart('df-1cf3c86b-2650-4c86-97f7-1fb84d2df4d0')\"\n",
              "            title=\"Suggest charts\"\n",
              "            style=\"display:none;\">\n",
              "\n",
              "<svg xmlns=\"http://www.w3.org/2000/svg\" height=\"24px\"viewBox=\"0 0 24 24\"\n",
              "     width=\"24px\">\n",
              "    <g>\n",
              "        <path d=\"M19 3H5c-1.1 0-2 .9-2 2v14c0 1.1.9 2 2 2h14c1.1 0 2-.9 2-2V5c0-1.1-.9-2-2-2zM9 17H7v-7h2v7zm4 0h-2V7h2v10zm4 0h-2v-4h2v4z\"/>\n",
              "    </g>\n",
              "</svg>\n",
              "  </button>\n",
              "\n",
              "<style>\n",
              "  .colab-df-quickchart {\n",
              "      --bg-color: #E8F0FE;\n",
              "      --fill-color: #1967D2;\n",
              "      --hover-bg-color: #E2EBFA;\n",
              "      --hover-fill-color: #174EA6;\n",
              "      --disabled-fill-color: #AAA;\n",
              "      --disabled-bg-color: #DDD;\n",
              "  }\n",
              "\n",
              "  [theme=dark] .colab-df-quickchart {\n",
              "      --bg-color: #3B4455;\n",
              "      --fill-color: #D2E3FC;\n",
              "      --hover-bg-color: #434B5C;\n",
              "      --hover-fill-color: #FFFFFF;\n",
              "      --disabled-bg-color: #3B4455;\n",
              "      --disabled-fill-color: #666;\n",
              "  }\n",
              "\n",
              "  .colab-df-quickchart {\n",
              "    background-color: var(--bg-color);\n",
              "    border: none;\n",
              "    border-radius: 50%;\n",
              "    cursor: pointer;\n",
              "    display: none;\n",
              "    fill: var(--fill-color);\n",
              "    height: 32px;\n",
              "    padding: 0;\n",
              "    width: 32px;\n",
              "  }\n",
              "\n",
              "  .colab-df-quickchart:hover {\n",
              "    background-color: var(--hover-bg-color);\n",
              "    box-shadow: 0 1px 2px rgba(60, 64, 67, 0.3), 0 1px 3px 1px rgba(60, 64, 67, 0.15);\n",
              "    fill: var(--button-hover-fill-color);\n",
              "  }\n",
              "\n",
              "  .colab-df-quickchart-complete:disabled,\n",
              "  .colab-df-quickchart-complete:disabled:hover {\n",
              "    background-color: var(--disabled-bg-color);\n",
              "    fill: var(--disabled-fill-color);\n",
              "    box-shadow: none;\n",
              "  }\n",
              "\n",
              "  .colab-df-spinner {\n",
              "    border: 2px solid var(--fill-color);\n",
              "    border-color: transparent;\n",
              "    border-bottom-color: var(--fill-color);\n",
              "    animation:\n",
              "      spin 1s steps(1) infinite;\n",
              "  }\n",
              "\n",
              "  @keyframes spin {\n",
              "    0% {\n",
              "      border-color: transparent;\n",
              "      border-bottom-color: var(--fill-color);\n",
              "      border-left-color: var(--fill-color);\n",
              "    }\n",
              "    20% {\n",
              "      border-color: transparent;\n",
              "      border-left-color: var(--fill-color);\n",
              "      border-top-color: var(--fill-color);\n",
              "    }\n",
              "    30% {\n",
              "      border-color: transparent;\n",
              "      border-left-color: var(--fill-color);\n",
              "      border-top-color: var(--fill-color);\n",
              "      border-right-color: var(--fill-color);\n",
              "    }\n",
              "    40% {\n",
              "      border-color: transparent;\n",
              "      border-right-color: var(--fill-color);\n",
              "      border-top-color: var(--fill-color);\n",
              "    }\n",
              "    60% {\n",
              "      border-color: transparent;\n",
              "      border-right-color: var(--fill-color);\n",
              "    }\n",
              "    80% {\n",
              "      border-color: transparent;\n",
              "      border-right-color: var(--fill-color);\n",
              "      border-bottom-color: var(--fill-color);\n",
              "    }\n",
              "    90% {\n",
              "      border-color: transparent;\n",
              "      border-bottom-color: var(--fill-color);\n",
              "    }\n",
              "  }\n",
              "</style>\n",
              "\n",
              "  <script>\n",
              "    async function quickchart(key) {\n",
              "      const quickchartButtonEl =\n",
              "        document.querySelector('#' + key + ' button');\n",
              "      quickchartButtonEl.disabled = true;  // To prevent multiple clicks.\n",
              "      quickchartButtonEl.classList.add('colab-df-spinner');\n",
              "      try {\n",
              "        const charts = await google.colab.kernel.invokeFunction(\n",
              "            'suggestCharts', [key], {});\n",
              "      } catch (error) {\n",
              "        console.error('Error during call to suggestCharts:', error);\n",
              "      }\n",
              "      quickchartButtonEl.classList.remove('colab-df-spinner');\n",
              "      quickchartButtonEl.classList.add('colab-df-quickchart-complete');\n",
              "    }\n",
              "    (() => {\n",
              "      let quickchartButtonEl =\n",
              "        document.querySelector('#df-1cf3c86b-2650-4c86-97f7-1fb84d2df4d0 button');\n",
              "      quickchartButtonEl.style.display =\n",
              "        google.colab.kernel.accessAllowed ? 'block' : 'none';\n",
              "    })();\n",
              "  </script>\n",
              "</div>\n",
              "    </div>\n",
              "  </div>\n"
            ],
            "application/vnd.google.colaboratory.intrinsic+json": {
              "type": "dataframe",
              "variable_name": "net_migrants_filtered",
              "summary": "{\n  \"name\": \"net_migrants_filtered\",\n  \"rows\": 29,\n  \"fields\": [\n    {\n      \"column\": \"Year\",\n      \"properties\": {\n        \"dtype\": \"number\",\n        \"std\": 8,\n        \"min\": 1994,\n        \"max\": 2022,\n        \"num_unique_values\": 29,\n        \"samples\": [\n          2021,\n          2010,\n          2006\n        ],\n        \"semantic_type\": \"\",\n        \"description\": \"\"\n      }\n    },\n    {\n      \"column\": \"Percentage\",\n      \"properties\": {\n        \"dtype\": \"number\",\n        \"std\": 37953.01492599641,\n        \"min\": -98896.0,\n        \"max\": 5484.0,\n        \"num_unique_values\": 27,\n        \"samples\": [\n          -20309.0,\n          -19572.0,\n          -20932.0\n        ],\n        \"semantic_type\": \"\",\n        \"description\": \"\"\n      }\n    }\n  ]\n}"
            }
          },
          "metadata": {},
          "execution_count": 108
        }
      ],
      "source": [
        "net_migrants_filtered"
      ]
    },
    {
      "cell_type": "code",
      "execution_count": 109,
      "metadata": {
        "colab": {
          "base_uri": "https://localhost:8080/",
          "height": 548
        },
        "id": "MhbgWyUaEJPa",
        "outputId": "bf9f989f-2b2a-41cd-e8db-de0b8c69af85"
      },
      "outputs": [
        {
          "output_type": "display_data",
          "data": {
            "text/plain": [
              "<Figure size 1000x520 with 1 Axes>"
            ],
            "image/png": "[encoded data removed]"
          },
          "metadata": {}
        }
      ],
      "source": [
        "from matplotlib import pyplot as plt\n",
        "import seaborn as sns\n",
        "def _plot_series(series, series_name, series_index=0):\n",
        "  from matplotlib import pyplot as plt\n",
        "  import seaborn as sns\n",
        "  palette = list(sns.palettes.mpl_palette('Dark2'))\n",
        "  xs = series['Year']\n",
        "  ys = series['Percentage']\n",
        "\n",
        "  plt.plot(xs, ys, label=series_name, color=palette[series_index % len(palette)])\n",
        "\n",
        "fig, ax = plt.subplots(figsize=(10, 5.2), layout='constrained')\n",
        "df_sorted = net_migrants_filtered.sort_values('Year', ascending=True)\n",
        "_plot_series(df_sorted, '')\n",
        "sns.despine(fig=fig, ax=ax)\n",
        "plt.title('Net migration - Sri Lanka (1994 - 2022)')\n",
        "plt.xlabel('Year')\n",
        "_ = plt.ylabel('Count')"
      ]
    },
    {
      "cell_type": "code",
      "source": [
        "value_year1 = net_migrants_filtered[net_migrants_filtered['Year'] == 2019]['Percentage'].iloc[0]\n",
        "value_year2 = net_migrants_filtered[net_migrants_filtered['Year'] == 2022]['Percentage'].iloc[0]\n",
        "\n",
        "# Calculate the percentage change\n",
        "if value_year1 == 0:\n",
        "    percentage_change = float('inf') if value_year2 != 0 else 0\n",
        "else:\n",
        "    percentage_change = ((value_year2 - value_year1) / value_year1) * 100\n",
        "\n",
        "# Print the percentage change\n",
        "print(f\"Percentage change from 2019 to 2022: {abs(percentage_change):.2f}%\")"
      ],
      "metadata": {
        "colab": {
          "base_uri": "https://localhost:8080/"
        },
        "id": "wfLpG01bHSqF",
        "outputId": "d44195a1-2f4f-472e-ee93-8ddaa620acfb"
      },
      "execution_count": 110,
      "outputs": [
        {
          "output_type": "stream",
          "name": "stdout",
          "text": [
            "Percentage change from 2019 to 2022: 18.34%\n"
          ]
        }
      ]
    },
    {
      "cell_type": "code",
      "execution_count": 111,
      "metadata": {
        "id": "WVBytA_cDznT"
      },
      "outputs": [],
      "source": [
        "df_test = net_migrants_filtered[(net_migrants_filtered['Year'] > 2012)]"
      ]
    },
    {
      "cell_type": "code",
      "execution_count": 112,
      "metadata": {
        "id": "fRdFjkVlXfrD"
      },
      "outputs": [],
      "source": [
        "df_train = net_migrants_filtered[(net_migrants_filtered['Year'] < 2013)]"
      ]
    },
    {
      "cell_type": "code",
      "execution_count": 113,
      "metadata": {
        "id": "qD6kixhOCbjf"
      },
      "outputs": [],
      "source": [
        "net_migrants_lka[\"Year\"] = pd.to_numeric(net_migrants_lka[\"Year\"])"
      ]
    },
    {
      "cell_type": "code",
      "source": [
        "fe.columns"
      ],
      "metadata": {
        "colab": {
          "base_uri": "https://localhost:8080/"
        },
        "id": "FxfOpAp9ctjs",
        "outputId": "36639797-661b-41b0-8ad7-4a1ae546c91a"
      },
      "execution_count": 114,
      "outputs": [
        {
          "output_type": "execute_result",
          "data": {
            "text/plain": [
              "Index(['Year', 'Male No. ', 'Male %', ' Female No. ', 'Female %', ' Total '], dtype='object')"
            ]
          },
          "metadata": {},
          "execution_count": 114
        }
      ]
    },
    {
      "cell_type": "code",
      "execution_count": 115,
      "metadata": {
        "id": "U--6sZOmA-qC"
      },
      "outputs": [],
      "source": [
        "malepercentage = fe[['Male No. ', 'Year']]"
      ]
    },
    {
      "cell_type": "code",
      "execution_count": 116,
      "metadata": {
        "id": "JjAV3pjvBhu-"
      },
      "outputs": [],
      "source": [
        "train = pd.merge(df_train, malepercentage, how='left', on='Year')"
      ]
    },
    {
      "cell_type": "code",
      "execution_count": 117,
      "metadata": {
        "colab": {
          "base_uri": "https://localhost:8080/"
        },
        "id": "EPA-DQRHXU1N",
        "outputId": "d698599f-90e1-4a98-d26c-40dc6aeb01eb"
      },
      "outputs": [
        {
          "output_type": "stream",
          "name": "stdout",
          "text": [
            "<class 'pandas.core.frame.DataFrame'>\n",
            "Int64Index: 19 entries, 0 to 18\n",
            "Data columns (total 3 columns):\n",
            " #   Column      Non-Null Count  Dtype  \n",
            "---  ------      --------------  -----  \n",
            " 0   Year        19 non-null     int64  \n",
            " 1   Percentage  19 non-null     float64\n",
            " 2   Male No.    19 non-null     int64  \n",
            "dtypes: float64(1), int64(2)\n",
            "memory usage: 608.0 bytes\n"
          ]
        }
      ],
      "source": [
        "train.info()"
      ]
    },
    {
      "cell_type": "code",
      "execution_count": 118,
      "metadata": {
        "id": "hLrRonXqaFc8"
      },
      "outputs": [],
      "source": [
        "x = train.drop(['Male No. '],axis=1)\n",
        "y = train['Male No. ']"
      ]
    },
    {
      "cell_type": "code",
      "execution_count": 119,
      "metadata": {
        "id": "0Q_xIPXXZll6"
      },
      "outputs": [],
      "source": [
        "X_train, X_test, y_train, y_test = train_test_split(x, y, test_size=0.2, random_state=42)"
      ]
    },
    {
      "cell_type": "code",
      "execution_count": 120,
      "metadata": {
        "id": "8O-IMIVpB-QQ"
      },
      "outputs": [],
      "source": [
        "# linear regression\n",
        "\n",
        "lr = LinearRegression()\n",
        "lr.fit(X_train,y_train)\n",
        "Y_pred = lr.predict(X_test)"
      ]
    },
    {
      "cell_type": "code",
      "execution_count": 121,
      "metadata": {
        "id": "9NZb0mzoCFAG",
        "colab": {
          "base_uri": "https://localhost:8080/"
        },
        "outputId": "13d4995e-2c6c-4471-ea94-606e6df311c0"
      },
      "outputs": [
        {
          "output_type": "stream",
          "name": "stdout",
          "text": [
            "RMSLE: 0.2978154679747983\n"
          ]
        }
      ],
      "source": [
        "# Evaluate the model\n",
        "squared_log_errors = (np.log1p(Y_pred) - np.log1p(y_test)) ** 2\n",
        "mean_squared_log_error = np.mean(squared_log_errors)\n",
        "rmsle = np.sqrt(mean_squared_log_error)\n",
        "\n",
        "print(\"RMSLE:\", rmsle)"
      ]
    },
    {
      "cell_type": "code",
      "source": [
        "# predict male # for test set\n",
        "y_pred_male_test = lr.predict(df_test)\n",
        "\n",
        "print(y_pred_male_test)"
      ],
      "metadata": {
        "colab": {
          "base_uri": "https://localhost:8080/"
        },
        "id": "Js0eKXM4c7Xw",
        "outputId": "e3849b1a-7e35-4870-d087-266acecc6885"
      },
      "execution_count": 122,
      "outputs": [
        {
          "output_type": "stream",
          "name": "stdout",
          "text": [
            "[156062.98697143 163237.45232865 170426.01815773 177574.40171729\n",
            " 184674.2079287  191676.20739887 198620.74540855 205541.32076663\n",
            " 212665.41565211 218574.66930576]\n"
          ]
        }
      ]
    },
    {
      "cell_type": "code",
      "source": [
        "Male_prediction =  pd.DataFrame({'Year': df_test['Year'], 'Net_migrants': df_test['Percentage'], 'Male No.': y_pred_male_test})"
      ],
      "metadata": {
        "id": "AVpjuE9IdTQ3"
      },
      "execution_count": 123,
      "outputs": []
    },
    {
      "cell_type": "code",
      "source": [
        "Male_prediction"
      ],
      "metadata": {
        "colab": {
          "base_uri": "https://localhost:8080/",
          "height": 363
        },
        "id": "c_vja4ptdu4z",
        "outputId": "06eb0187-444d-41d8-df53-c2daffdca318"
      },
      "execution_count": 124,
      "outputs": [
        {
          "output_type": "execute_result",
          "data": {
            "text/plain": [
              "       Year  Net_migrants       Male No.\n",
              "14236  2013      -97189.0  156062.986971\n",
              "14502  2014      -97807.0  163237.452329\n",
              "14768  2015      -98598.0  170426.018158\n",
              "15034  2016      -98896.0  177574.401717\n",
              "15300  2017      -98598.0  184674.207929\n",
              "15566  2018      -97100.0  191676.207399\n",
              "15832  2019      -94897.0  198620.745409\n",
              "16098  2020      -92400.0  205541.320767\n",
              "16364  2021      -92400.0  212665.415652\n",
              "16630  2022      -77495.0  218574.669306"
            ],
            "text/html": [
              "\n",
              "  <div id=\"df-f290a777-da32-464b-9b8f-ac89146beffc\" class=\"colab-df-container\">\n",
              "    <div>\n",
              "<style scoped>\n",
              "    .dataframe tbody tr th:only-of-type {\n",
              "        vertical-align: middle;\n",
              "    }\n",
              "\n",
              "    .dataframe tbody tr th {\n",
              "        vertical-align: top;\n",
              "    }\n",
              "\n",
              "    .dataframe thead th {\n",
              "        text-align: right;\n",
              "    }\n",
              "</style>\n",
              "<table border=\"1\" class=\"dataframe\">\n",
              "  <thead>\n",
              "    <tr style=\"text-align: right;\">\n",
              "      <th></th>\n",
              "      <th>Year</th>\n",
              "      <th>Net_migrants</th>\n",
              "      <th>Male No.</th>\n",
              "    </tr>\n",
              "  </thead>\n",
              "  <tbody>\n",
              "    <tr>\n",
              "      <th>14236</th>\n",
              "      <td>2013</td>\n",
              "      <td>-97189.0</td>\n",
              "      <td>156062.986971</td>\n",
              "    </tr>\n",
              "    <tr>\n",
              "      <th>14502</th>\n",
              "      <td>2014</td>\n",
              "      <td>-97807.0</td>\n",
              "      <td>163237.452329</td>\n",
              "    </tr>\n",
              "    <tr>\n",
              "      <th>14768</th>\n",
              "      <td>2015</td>\n",
              "      <td>-98598.0</td>\n",
              "      <td>170426.018158</td>\n",
              "    </tr>\n",
              "    <tr>\n",
              "      <th>15034</th>\n",
              "      <td>2016</td>\n",
              "      <td>-98896.0</td>\n",
              "      <td>177574.401717</td>\n",
              "    </tr>\n",
              "    <tr>\n",
              "      <th>15300</th>\n",
              "      <td>2017</td>\n",
              "      <td>-98598.0</td>\n",
              "      <td>184674.207929</td>\n",
              "    </tr>\n",
              "    <tr>\n",
              "      <th>15566</th>\n",
              "      <td>2018</td>\n",
              "      <td>-97100.0</td>\n",
              "      <td>191676.207399</td>\n",
              "    </tr>\n",
              "    <tr>\n",
              "      <th>15832</th>\n",
              "      <td>2019</td>\n",
              "      <td>-94897.0</td>\n",
              "      <td>198620.745409</td>\n",
              "    </tr>\n",
              "    <tr>\n",
              "      <th>16098</th>\n",
              "      <td>2020</td>\n",
              "      <td>-92400.0</td>\n",
              "      <td>205541.320767</td>\n",
              "    </tr>\n",
              "    <tr>\n",
              "      <th>16364</th>\n",
              "      <td>2021</td>\n",
              "      <td>-92400.0</td>\n",
              "      <td>212665.415652</td>\n",
              "    </tr>\n",
              "    <tr>\n",
              "      <th>16630</th>\n",
              "      <td>2022</td>\n",
              "      <td>-77495.0</td>\n",
              "      <td>218574.669306</td>\n",
              "    </tr>\n",
              "  </tbody>\n",
              "</table>\n",
              "</div>\n",
              "    <div class=\"colab-df-buttons\">\n",
              "\n",
              "  <div class=\"colab-df-container\">\n",
              "    <button class=\"colab-df-convert\" onclick=\"convertToInteractive('df-f290a777-da32-464b-9b8f-ac89146beffc')\"\n",
              "            title=\"Convert this dataframe to an interactive table.\"\n",
              "            style=\"display:none;\">\n",
              "\n",
              "  <svg xmlns=\"http://www.w3.org/2000/svg\" height=\"24px\" viewBox=\"0 -960 960 960\">\n",
              "    <path d=\"M120-120v-720h720v720H120Zm60-500h600v-160H180v160Zm220 220h160v-160H400v160Zm0 220h160v-160H400v160ZM180-400h160v-160H180v160Zm440 0h160v-160H620v160ZM180-180h160v-160H180v160Zm440 0h160v-160H620v160Z\"/>\n",
              "  </svg>\n",
              "    </button>\n",
              "\n",
              "  <style>\n",
              "    .colab-df-container {\n",
              "      display:flex;\n",
              "      gap: 12px;\n",
              "    }\n",
              "\n",
              "    .colab-df-convert {\n",
              "      background-color: #E8F0FE;\n",
              "      border: none;\n",
              "      border-radius: 50%;\n",
              "      cursor: pointer;\n",
              "      display: none;\n",
              "      fill: #1967D2;\n",
              "      height: 32px;\n",
              "      padding: 0 0 0 0;\n",
              "      width: 32px;\n",
              "    }\n",
              "\n",
              "    .colab-df-convert:hover {\n",
              "      background-color: #E2EBFA;\n",
              "      box-shadow: 0px 1px 2px rgba(60, 64, 67, 0.3), 0px 1px 3px 1px rgba(60, 64, 67, 0.15);\n",
              "      fill: #174EA6;\n",
              "    }\n",
              "\n",
              "    .colab-df-buttons div {\n",
              "      margin-bottom: 4px;\n",
              "    }\n",
              "\n",
              "    [theme=dark] .colab-df-convert {\n",
              "      background-color: #3B4455;\n",
              "      fill: #D2E3FC;\n",
              "    }\n",
              "\n",
              "    [theme=dark] .colab-df-convert:hover {\n",
              "      background-color: #434B5C;\n",
              "      box-shadow: 0px 1px 3px 1px rgba(0, 0, 0, 0.15);\n",
              "      filter: drop-shadow(0px 1px 2px rgba(0, 0, 0, 0.3));\n",
              "      fill: #FFFFFF;\n",
              "    }\n",
              "  </style>\n",
              "\n",
              "    <script>\n",
              "      const buttonEl =\n",
              "        document.querySelector('#df-f290a777-da32-464b-9b8f-ac89146beffc button.colab-df-convert');\n",
              "      buttonEl.style.display =\n",
              "        google.colab.kernel.accessAllowed ? 'block' : 'none';\n",
              "\n",
              "      async function convertToInteractive(key) {\n",
              "        const element = document.querySelector('#df-f290a777-da32-464b-9b8f-ac89146beffc');\n",
              "        const dataTable =\n",
              "          await google.colab.kernel.invokeFunction('convertToInteractive',\n",
              "                                                    [key], {});\n",
              "        if (!dataTable) return;\n",
              "\n",
              "        const docLinkHtml = 'Like what you see? Visit the ' +\n",
              "          '<a target=\"_blank\" href=https://colab.research.google.com/notebooks/data_table.ipynb>data table notebook</a>'\n",
              "          + ' to learn more about interactive tables.';\n",
              "        element.innerHTML = '';\n",
              "        dataTable['output_type'] = 'display_data';\n",
              "        await google.colab.output.renderOutput(dataTable, element);\n",
              "        const docLink = document.createElement('div');\n",
              "        docLink.innerHTML = docLinkHtml;\n",
              "        element.appendChild(docLink);\n",
              "      }\n",
              "    </script>\n",
              "  </div>\n",
              "\n",
              "\n",
              "<div id=\"df-4f8d198d-6bbc-4d06-b7fb-69c637dd65f8\">\n",
              "  <button class=\"colab-df-quickchart\" onclick=\"quickchart('df-4f8d198d-6bbc-4d06-b7fb-69c637dd65f8')\"\n",
              "            title=\"Suggest charts\"\n",
              "            style=\"display:none;\">\n",
              "\n",
              "<svg xmlns=\"http://www.w3.org/2000/svg\" height=\"24px\"viewBox=\"0 0 24 24\"\n",
              "     width=\"24px\">\n",
              "    <g>\n",
              "        <path d=\"M19 3H5c-1.1 0-2 .9-2 2v14c0 1.1.9 2 2 2h14c1.1 0 2-.9 2-2V5c0-1.1-.9-2-2-2zM9 17H7v-7h2v7zm4 0h-2V7h2v10zm4 0h-2v-4h2v4z\"/>\n",
              "    </g>\n",
              "</svg>\n",
              "  </button>\n",
              "\n",
              "<style>\n",
              "  .colab-df-quickchart {\n",
              "      --bg-color: #E8F0FE;\n",
              "      --fill-color: #1967D2;\n",
              "      --hover-bg-color: #E2EBFA;\n",
              "      --hover-fill-color: #174EA6;\n",
              "      --disabled-fill-color: #AAA;\n",
              "      --disabled-bg-color: #DDD;\n",
              "  }\n",
              "\n",
              "  [theme=dark] .colab-df-quickchart {\n",
              "      --bg-color: #3B4455;\n",
              "      --fill-color: #D2E3FC;\n",
              "      --hover-bg-color: #434B5C;\n",
              "      --hover-fill-color: #FFFFFF;\n",
              "      --disabled-bg-color: #3B4455;\n",
              "      --disabled-fill-color: #666;\n",
              "  }\n",
              "\n",
              "  .colab-df-quickchart {\n",
              "    background-color: var(--bg-color);\n",
              "    border: none;\n",
              "    border-radius: 50%;\n",
              "    cursor: pointer;\n",
              "    display: none;\n",
              "    fill: var(--fill-color);\n",
              "    height: 32px;\n",
              "    padding: 0;\n",
              "    width: 32px;\n",
              "  }\n",
              "\n",
              "  .colab-df-quickchart:hover {\n",
              "    background-color: var(--hover-bg-color);\n",
              "    box-shadow: 0 1px 2px rgba(60, 64, 67, 0.3), 0 1px 3px 1px rgba(60, 64, 67, 0.15);\n",
              "    fill: var(--button-hover-fill-color);\n",
              "  }\n",
              "\n",
              "  .colab-df-quickchart-complete:disabled,\n",
              "  .colab-df-quickchart-complete:disabled:hover {\n",
              "    background-color: var(--disabled-bg-color);\n",
              "    fill: var(--disabled-fill-color);\n",
              "    box-shadow: none;\n",
              "  }\n",
              "\n",
              "  .colab-df-spinner {\n",
              "    border: 2px solid var(--fill-color);\n",
              "    border-color: transparent;\n",
              "    border-bottom-color: var(--fill-color);\n",
              "    animation:\n",
              "      spin 1s steps(1) infinite;\n",
              "  }\n",
              "\n",
              "  @keyframes spin {\n",
              "    0% {\n",
              "      border-color: transparent;\n",
              "      border-bottom-color: var(--fill-color);\n",
              "      border-left-color: var(--fill-color);\n",
              "    }\n",
              "    20% {\n",
              "      border-color: transparent;\n",
              "      border-left-color: var(--fill-color);\n",
              "      border-top-color: var(--fill-color);\n",
              "    }\n",
              "    30% {\n",
              "      border-color: transparent;\n",
              "      border-left-color: var(--fill-color);\n",
              "      border-top-color: var(--fill-color);\n",
              "      border-right-color: var(--fill-color);\n",
              "    }\n",
              "    40% {\n",
              "      border-color: transparent;\n",
              "      border-right-color: var(--fill-color);\n",
              "      border-top-color: var(--fill-color);\n",
              "    }\n",
              "    60% {\n",
              "      border-color: transparent;\n",
              "      border-right-color: var(--fill-color);\n",
              "    }\n",
              "    80% {\n",
              "      border-color: transparent;\n",
              "      border-right-color: var(--fill-color);\n",
              "      border-bottom-color: var(--fill-color);\n",
              "    }\n",
              "    90% {\n",
              "      border-color: transparent;\n",
              "      border-bottom-color: var(--fill-color);\n",
              "    }\n",
              "  }\n",
              "</style>\n",
              "\n",
              "  <script>\n",
              "    async function quickchart(key) {\n",
              "      const quickchartButtonEl =\n",
              "        document.querySelector('#' + key + ' button');\n",
              "      quickchartButtonEl.disabled = true;  // To prevent multiple clicks.\n",
              "      quickchartButtonEl.classList.add('colab-df-spinner');\n",
              "      try {\n",
              "        const charts = await google.colab.kernel.invokeFunction(\n",
              "            'suggestCharts', [key], {});\n",
              "      } catch (error) {\n",
              "        console.error('Error during call to suggestCharts:', error);\n",
              "      }\n",
              "      quickchartButtonEl.classList.remove('colab-df-spinner');\n",
              "      quickchartButtonEl.classList.add('colab-df-quickchart-complete');\n",
              "    }\n",
              "    (() => {\n",
              "      let quickchartButtonEl =\n",
              "        document.querySelector('#df-4f8d198d-6bbc-4d06-b7fb-69c637dd65f8 button');\n",
              "      quickchartButtonEl.style.display =\n",
              "        google.colab.kernel.accessAllowed ? 'block' : 'none';\n",
              "    })();\n",
              "  </script>\n",
              "</div>\n",
              "    </div>\n",
              "  </div>\n"
            ],
            "application/vnd.google.colaboratory.intrinsic+json": {
              "type": "dataframe",
              "variable_name": "Male_prediction",
              "summary": "{\n  \"name\": \"Male_prediction\",\n  \"rows\": 10,\n  \"fields\": [\n    {\n      \"column\": \"Year\",\n      \"properties\": {\n        \"dtype\": \"number\",\n        \"std\": 3,\n        \"min\": 2013,\n        \"max\": 2022,\n        \"num_unique_values\": 10,\n        \"samples\": [\n          2021,\n          2014,\n          2018\n        ],\n        \"semantic_type\": \"\",\n        \"description\": \"\"\n      }\n    },\n    {\n      \"column\": \"Net_migrants\",\n      \"properties\": {\n        \"dtype\": \"number\",\n        \"std\": 6463.3340897369335,\n        \"min\": -98896.0,\n        \"max\": -77495.0,\n        \"num_unique_values\": 8,\n        \"samples\": [\n          -97807.0,\n          -94897.0,\n          -97189.0\n        ],\n        \"semantic_type\": \"\",\n        \"description\": \"\"\n      }\n    },\n    {\n      \"column\": \"Male No.\",\n      \"properties\": {\n        \"dtype\": \"number\",\n        \"std\": 21184.039062110314,\n        \"min\": 156062.98697142862,\n        \"max\": 218574.6693057567,\n        \"num_unique_values\": 10,\n        \"samples\": [\n          212665.4156521149,\n          163237.45232865028,\n          191676.20739886537\n        ],\n        \"semantic_type\": \"\",\n        \"description\": \"\"\n      }\n    }\n  ]\n}"
            }
          },
          "metadata": {},
          "execution_count": 124
        }
      ]
    },
    {
      "source": [
        "sns.lineplot(data=Male_prediction, x='Year', y='Male No.')"
      ],
      "cell_type": "code",
      "metadata": {
        "colab": {
          "base_uri": "https://localhost:8080/",
          "height": 466
        },
        "id": "xuWPok8Gd4RD",
        "outputId": "8722e746-b990-4cae-ba51-a2914962b013"
      },
      "execution_count": 125,
      "outputs": [
        {
          "output_type": "execute_result",
          "data": {
            "text/plain": [
              "<Axes: xlabel='Year', ylabel='Male No.'>"
            ]
          },
          "metadata": {},
          "execution_count": 125
        },
        {
          "output_type": "display_data",
          "data": {
            "text/plain": [
              "<Figure size 640x480 with 1 Axes>"
            ],
            "image/png": "[encoded data removed]"
          },
          "metadata": {}
        }
      ]
    },
    {
      "cell_type": "code",
      "source": [
        "women = fe[[' Female No. ', 'Year']]\n",
        "trainWomen = pd.merge(df_train, women, how='left', on='Year')"
      ],
      "metadata": {
        "id": "CIW1dJeAeds_"
      },
      "execution_count": 126,
      "outputs": []
    },
    {
      "cell_type": "code",
      "source": [
        "x = trainWomen.drop([' Female No. '],axis=1)\n",
        "y = trainWomen[' Female No. ']\n",
        "\n",
        "X_train, X_test, y_train, y_test = train_test_split(x, y, test_size=0.2, random_state=42)"
      ],
      "metadata": {
        "id": "gM00S_k3e5-c"
      },
      "execution_count": 127,
      "outputs": []
    },
    {
      "cell_type": "code",
      "source": [
        "# linear regression\n",
        "\n",
        "lrf = LinearRegression()\n",
        "lrf.fit(X_train,y_train)\n",
        "Y_pred_female = lrf.predict(X_test)\n",
        "\n",
        "# Evaluate the model\n",
        "squared_log_errors = (np.log1p(Y_pred_female) - np.log1p(y_test)) ** 2\n",
        "mean_squared_log_error = np.mean(squared_log_errors)\n",
        "rmsle = np.sqrt(mean_squared_log_error)\n",
        "\n",
        "print(\"RMSLE:\", rmsle)"
      ],
      "metadata": {
        "colab": {
          "base_uri": "https://localhost:8080/"
        },
        "id": "ht9lVO0cfA3o",
        "outputId": "7c6de872-f686-4b1d-cb6d-6d4839ba3b62"
      },
      "execution_count": 128,
      "outputs": [
        {
          "output_type": "stream",
          "name": "stdout",
          "text": [
            "RMSLE: 0.4889573972128028\n"
          ]
        }
      ]
    },
    {
      "cell_type": "code",
      "source": [
        "# predict female # for test set\n",
        "y_pred_female_test = lrf.predict(df_test)\n",
        "\n",
        "print(y_pred_female_test)"
      ],
      "metadata": {
        "colab": {
          "base_uri": "https://localhost:8080/"
        },
        "id": "1LKD56cRfMMm",
        "outputId": "263e21b3-b39f-4085-ad2e-448f2922207c"
      },
      "execution_count": 129,
      "outputs": [
        {
          "output_type": "stream",
          "name": "stdout",
          "text": [
            "[128952.25683114 129702.33489467 130447.05611364 131207.04279138\n",
            " 131985.48426309 132801.08303809 133638.51172878 134485.04395878\n",
            " 135254.2580335  136484.99677956]\n"
          ]
        }
      ]
    },
    {
      "cell_type": "code",
      "source": [
        "female_prediction =  pd.DataFrame({'Year': df_test['Year'], 'Net_migrants': df_test['Percentage'], 'Female No.': y_pred_female_test})\n",
        "\n",
        "female_prediction"
      ],
      "metadata": {
        "colab": {
          "base_uri": "https://localhost:8080/",
          "height": 363
        },
        "id": "XEEn1S1Lfczr",
        "outputId": "f353d0fd-193d-4937-e5cc-91c1c5463711"
      },
      "execution_count": 130,
      "outputs": [
        {
          "output_type": "execute_result",
          "data": {
            "text/plain": [
              "       Year  Net_migrants     Female No.\n",
              "14236  2013      -97189.0  128952.256831\n",
              "14502  2014      -97807.0  129702.334895\n",
              "14768  2015      -98598.0  130447.056114\n",
              "15034  2016      -98896.0  131207.042791\n",
              "15300  2017      -98598.0  131985.484263\n",
              "15566  2018      -97100.0  132801.083038\n",
              "15832  2019      -94897.0  133638.511729\n",
              "16098  2020      -92400.0  134485.043959\n",
              "16364  2021      -92400.0  135254.258034\n",
              "16630  2022      -77495.0  136484.996780"
            ],
            "text/html": [
              "\n",
              "  <div id=\"df-87ad15d1-93fe-46f8-8758-287fe7fc03c9\" class=\"colab-df-container\">\n",
              "    <div>\n",
              "<style scoped>\n",
              "    .dataframe tbody tr th:only-of-type {\n",
              "        vertical-align: middle;\n",
              "    }\n",
              "\n",
              "    .dataframe tbody tr th {\n",
              "        vertical-align: top;\n",
              "    }\n",
              "\n",
              "    .dataframe thead th {\n",
              "        text-align: right;\n",
              "    }\n",
              "</style>\n",
              "<table border=\"1\" class=\"dataframe\">\n",
              "  <thead>\n",
              "    <tr style=\"text-align: right;\">\n",
              "      <th></th>\n",
              "      <th>Year</th>\n",
              "      <th>Net_migrants</th>\n",
              "      <th>Female No.</th>\n",
              "    </tr>\n",
              "  </thead>\n",
              "  <tbody>\n",
              "    <tr>\n",
              "      <th>14236</th>\n",
              "      <td>2013</td>\n",
              "      <td>-97189.0</td>\n",
              "      <td>128952.256831</td>\n",
              "    </tr>\n",
              "    <tr>\n",
              "      <th>14502</th>\n",
              "      <td>2014</td>\n",
              "      <td>-97807.0</td>\n",
              "      <td>129702.334895</td>\n",
              "    </tr>\n",
              "    <tr>\n",
              "      <th>14768</th>\n",
              "      <td>2015</td>\n",
              "      <td>-98598.0</td>\n",
              "      <td>130447.056114</td>\n",
              "    </tr>\n",
              "    <tr>\n",
              "      <th>15034</th>\n",
              "      <td>2016</td>\n",
              "      <td>-98896.0</td>\n",
              "      <td>131207.042791</td>\n",
              "    </tr>\n",
              "    <tr>\n",
              "      <th>15300</th>\n",
              "      <td>2017</td>\n",
              "      <td>-98598.0</td>\n",
              "      <td>131985.484263</td>\n",
              "    </tr>\n",
              "    <tr>\n",
              "      <th>15566</th>\n",
              "      <td>2018</td>\n",
              "      <td>-97100.0</td>\n",
              "      <td>132801.083038</td>\n",
              "    </tr>\n",
              "    <tr>\n",
              "      <th>15832</th>\n",
              "      <td>2019</td>\n",
              "      <td>-94897.0</td>\n",
              "      <td>133638.511729</td>\n",
              "    </tr>\n",
              "    <tr>\n",
              "      <th>16098</th>\n",
              "      <td>2020</td>\n",
              "      <td>-92400.0</td>\n",
              "      <td>134485.043959</td>\n",
              "    </tr>\n",
              "    <tr>\n",
              "      <th>16364</th>\n",
              "      <td>2021</td>\n",
              "      <td>-92400.0</td>\n",
              "      <td>135254.258034</td>\n",
              "    </tr>\n",
              "    <tr>\n",
              "      <th>16630</th>\n",
              "      <td>2022</td>\n",
              "      <td>-77495.0</td>\n",
              "      <td>136484.996780</td>\n",
              "    </tr>\n",
              "  </tbody>\n",
              "</table>\n",
              "</div>\n",
              "    <div class=\"colab-df-buttons\">\n",
              "\n",
              "  <div class=\"colab-df-container\">\n",
              "    <button class=\"colab-df-convert\" onclick=\"convertToInteractive('df-87ad15d1-93fe-46f8-8758-287fe7fc03c9')\"\n",
              "            title=\"Convert this dataframe to an interactive table.\"\n",
              "            style=\"display:none;\">\n",
              "\n",
              "  <svg xmlns=\"http://www.w3.org/2000/svg\" height=\"24px\" viewBox=\"0 -960 960 960\">\n",
              "    <path d=\"M120-120v-720h720v720H120Zm60-500h600v-160H180v160Zm220 220h160v-160H400v160Zm0 220h160v-160H400v160ZM180-400h160v-160H180v160Zm440 0h160v-160H620v160ZM180-180h160v-160H180v160Zm440 0h160v-160H620v160Z\"/>\n",
              "  </svg>\n",
              "    </button>\n",
              "\n",
              "  <style>\n",
              "    .colab-df-container {\n",
              "      display:flex;\n",
              "      gap: 12px;\n",
              "    }\n",
              "\n",
              "    .colab-df-convert {\n",
              "      background-color: #E8F0FE;\n",
              "      border: none;\n",
              "      border-radius: 50%;\n",
              "      cursor: pointer;\n",
              "      display: none;\n",
              "      fill: #1967D2;\n",
              "      height: 32px;\n",
              "      padding: 0 0 0 0;\n",
              "      width: 32px;\n",
              "    }\n",
              "\n",
              "    .colab-df-convert:hover {\n",
              "      background-color: #E2EBFA;\n",
              "      box-shadow: 0px 1px 2px rgba(60, 64, 67, 0.3), 0px 1px 3px 1px rgba(60, 64, 67, 0.15);\n",
              "      fill: #174EA6;\n",
              "    }\n",
              "\n",
              "    .colab-df-buttons div {\n",
              "      margin-bottom: 4px;\n",
              "    }\n",
              "\n",
              "    [theme=dark] .colab-df-convert {\n",
              "      background-color: #3B4455;\n",
              "      fill: #D2E3FC;\n",
              "    }\n",
              "\n",
              "    [theme=dark] .colab-df-convert:hover {\n",
              "      background-color: #434B5C;\n",
              "      box-shadow: 0px 1px 3px 1px rgba(0, 0, 0, 0.15);\n",
              "      filter: drop-shadow(0px 1px 2px rgba(0, 0, 0, 0.3));\n",
              "      fill: #FFFFFF;\n",
              "    }\n",
              "  </style>\n",
              "\n",
              "    <script>\n",
              "      const buttonEl =\n",
              "        document.querySelector('#df-87ad15d1-93fe-46f8-8758-287fe7fc03c9 button.colab-df-convert');\n",
              "      buttonEl.style.display =\n",
              "        google.colab.kernel.accessAllowed ? 'block' : 'none';\n",
              "\n",
              "      async function convertToInteractive(key) {\n",
              "        const element = document.querySelector('#df-87ad15d1-93fe-46f8-8758-287fe7fc03c9');\n",
              "        const dataTable =\n",
              "          await google.colab.kernel.invokeFunction('convertToInteractive',\n",
              "                                                    [key], {});\n",
              "        if (!dataTable) return;\n",
              "\n",
              "        const docLinkHtml = 'Like what you see? Visit the ' +\n",
              "          '<a target=\"_blank\" href=https://colab.research.google.com/notebooks/data_table.ipynb>data table notebook</a>'\n",
              "          + ' to learn more about interactive tables.';\n",
              "        element.innerHTML = '';\n",
              "        dataTable['output_type'] = 'display_data';\n",
              "        await google.colab.output.renderOutput(dataTable, element);\n",
              "        const docLink = document.createElement('div');\n",
              "        docLink.innerHTML = docLinkHtml;\n",
              "        element.appendChild(docLink);\n",
              "      }\n",
              "    </script>\n",
              "  </div>\n",
              "\n",
              "\n",
              "<div id=\"df-eb7075da-4cd6-4795-9754-de55edad9a6f\">\n",
              "  <button class=\"colab-df-quickchart\" onclick=\"quickchart('df-eb7075da-4cd6-4795-9754-de55edad9a6f')\"\n",
              "            title=\"Suggest charts\"\n",
              "            style=\"display:none;\">\n",
              "\n",
              "<svg xmlns=\"http://www.w3.org/2000/svg\" height=\"24px\"viewBox=\"0 0 24 24\"\n",
              "     width=\"24px\">\n",
              "    <g>\n",
              "        <path d=\"M19 3H5c-1.1 0-2 .9-2 2v14c0 1.1.9 2 2 2h14c1.1 0 2-.9 2-2V5c0-1.1-.9-2-2-2zM9 17H7v-7h2v7zm4 0h-2V7h2v10zm4 0h-2v-4h2v4z\"/>\n",
              "    </g>\n",
              "</svg>\n",
              "  </button>\n",
              "\n",
              "<style>\n",
              "  .colab-df-quickchart {\n",
              "      --bg-color: #E8F0FE;\n",
              "      --fill-color: #1967D2;\n",
              "      --hover-bg-color: #E2EBFA;\n",
              "      --hover-fill-color: #174EA6;\n",
              "      --disabled-fill-color: #AAA;\n",
              "      --disabled-bg-color: #DDD;\n",
              "  }\n",
              "\n",
              "  [theme=dark] .colab-df-quickchart {\n",
              "      --bg-color: #3B4455;\n",
              "      --fill-color: #D2E3FC;\n",
              "      --hover-bg-color: #434B5C;\n",
              "      --hover-fill-color: #FFFFFF;\n",
              "      --disabled-bg-color: #3B4455;\n",
              "      --disabled-fill-color: #666;\n",
              "  }\n",
              "\n",
              "  .colab-df-quickchart {\n",
              "    background-color: var(--bg-color);\n",
              "    border: none;\n",
              "    border-radius: 50%;\n",
              "    cursor: pointer;\n",
              "    display: none;\n",
              "    fill: var(--fill-color);\n",
              "    height: 32px;\n",
              "    padding: 0;\n",
              "    width: 32px;\n",
              "  }\n",
              "\n",
              "  .colab-df-quickchart:hover {\n",
              "    background-color: var(--hover-bg-color);\n",
              "    box-shadow: 0 1px 2px rgba(60, 64, 67, 0.3), 0 1px 3px 1px rgba(60, 64, 67, 0.15);\n",
              "    fill: var(--button-hover-fill-color);\n",
              "  }\n",
              "\n",
              "  .colab-df-quickchart-complete:disabled,\n",
              "  .colab-df-quickchart-complete:disabled:hover {\n",
              "    background-color: var(--disabled-bg-color);\n",
              "    fill: var(--disabled-fill-color);\n",
              "    box-shadow: none;\n",
              "  }\n",
              "\n",
              "  .colab-df-spinner {\n",
              "    border: 2px solid var(--fill-color);\n",
              "    border-color: transparent;\n",
              "    border-bottom-color: var(--fill-color);\n",
              "    animation:\n",
              "      spin 1s steps(1) infinite;\n",
              "  }\n",
              "\n",
              "  @keyframes spin {\n",
              "    0% {\n",
              "      border-color: transparent;\n",
              "      border-bottom-color: var(--fill-color);\n",
              "      border-left-color: var(--fill-color);\n",
              "    }\n",
              "    20% {\n",
              "      border-color: transparent;\n",
              "      border-left-color: var(--fill-color);\n",
              "      border-top-color: var(--fill-color);\n",
              "    }\n",
              "    30% {\n",
              "      border-color: transparent;\n",
              "      border-left-color: var(--fill-color);\n",
              "      border-top-color: var(--fill-color);\n",
              "      border-right-color: var(--fill-color);\n",
              "    }\n",
              "    40% {\n",
              "      border-color: transparent;\n",
              "      border-right-color: var(--fill-color);\n",
              "      border-top-color: var(--fill-color);\n",
              "    }\n",
              "    60% {\n",
              "      border-color: transparent;\n",
              "      border-right-color: var(--fill-color);\n",
              "    }\n",
              "    80% {\n",
              "      border-color: transparent;\n",
              "      border-right-color: var(--fill-color);\n",
              "      border-bottom-color: var(--fill-color);\n",
              "    }\n",
              "    90% {\n",
              "      border-color: transparent;\n",
              "      border-bottom-color: var(--fill-color);\n",
              "    }\n",
              "  }\n",
              "</style>\n",
              "\n",
              "  <script>\n",
              "    async function quickchart(key) {\n",
              "      const quickchartButtonEl =\n",
              "        document.querySelector('#' + key + ' button');\n",
              "      quickchartButtonEl.disabled = true;  // To prevent multiple clicks.\n",
              "      quickchartButtonEl.classList.add('colab-df-spinner');\n",
              "      try {\n",
              "        const charts = await google.colab.kernel.invokeFunction(\n",
              "            'suggestCharts', [key], {});\n",
              "      } catch (error) {\n",
              "        console.error('Error during call to suggestCharts:', error);\n",
              "      }\n",
              "      quickchartButtonEl.classList.remove('colab-df-spinner');\n",
              "      quickchartButtonEl.classList.add('colab-df-quickchart-complete');\n",
              "    }\n",
              "    (() => {\n",
              "      let quickchartButtonEl =\n",
              "        document.querySelector('#df-eb7075da-4cd6-4795-9754-de55edad9a6f button');\n",
              "      quickchartButtonEl.style.display =\n",
              "        google.colab.kernel.accessAllowed ? 'block' : 'none';\n",
              "    })();\n",
              "  </script>\n",
              "</div>\n",
              "    </div>\n",
              "  </div>\n"
            ],
            "application/vnd.google.colaboratory.intrinsic+json": {
              "type": "dataframe",
              "variable_name": "female_prediction",
              "summary": "{\n  \"name\": \"female_prediction\",\n  \"rows\": 10,\n  \"fields\": [\n    {\n      \"column\": \"Year\",\n      \"properties\": {\n        \"dtype\": \"number\",\n        \"std\": 3,\n        \"min\": 2013,\n        \"max\": 2022,\n        \"num_unique_values\": 10,\n        \"samples\": [\n          2021,\n          2014,\n          2018\n        ],\n        \"semantic_type\": \"\",\n        \"description\": \"\"\n      }\n    },\n    {\n      \"column\": \"Net_migrants\",\n      \"properties\": {\n        \"dtype\": \"number\",\n        \"std\": 6463.3340897369335,\n        \"min\": -98896.0,\n        \"max\": -77495.0,\n        \"num_unique_values\": 8,\n        \"samples\": [\n          -97807.0,\n          -94897.0,\n          -97189.0\n        ],\n        \"semantic_type\": \"\",\n        \"description\": \"\"\n      }\n    },\n    {\n      \"column\": \"Female No.\",\n      \"properties\": {\n        \"dtype\": \"number\",\n        \"std\": 2480.091291204295,\n        \"min\": 128952.25683114352,\n        \"max\": 136484.99677955778,\n        \"num_unique_values\": 10,\n        \"samples\": [\n          135254.25803350192,\n          129702.33489467157,\n          132801.08303809352\n        ],\n        \"semantic_type\": \"\",\n        \"description\": \"\"\n      }\n    }\n  ]\n}"
            }
          },
          "metadata": {},
          "execution_count": 130
        }
      ]
    },
    {
      "cell_type": "code",
      "source": [
        "sns.lineplot(data=female_prediction, x='Year', y='Female No.')"
      ],
      "metadata": {
        "colab": {
          "base_uri": "https://localhost:8080/",
          "height": 466
        },
        "id": "wemx8NLcfmiz",
        "outputId": "9e336191-9c82-4ad9-d90a-666481fb1140"
      },
      "execution_count": 131,
      "outputs": [
        {
          "output_type": "execute_result",
          "data": {
            "text/plain": [
              "<Axes: xlabel='Year', ylabel='Female No.'>"
            ]
          },
          "metadata": {},
          "execution_count": 131
        },
        {
          "output_type": "display_data",
          "data": {
            "text/plain": [
              "<Figure size 640x480 with 1 Axes>"
            ],
            "image/png": "[encoded data removed]"
          },
          "metadata": {}
        }
      ]
    },
    {
      "cell_type": "code",
      "source": [
        "migrants = pd.DataFrame({'Year': df_test['Year'], ' Female No. ': y_pred_female_test.astype(int), 'Male No. ': y_pred_male_test.astype(int)})"
      ],
      "metadata": {
        "id": "AByiQB3xhDl5"
      },
      "execution_count": 132,
      "outputs": []
    },
    {
      "cell_type": "code",
      "source": [
        "migrants"
      ],
      "metadata": {
        "colab": {
          "base_uri": "https://localhost:8080/",
          "height": 363
        },
        "id": "EuhbN6uXiriD",
        "outputId": "efda80c6-76e2-4d18-db40-dbcb9878a849"
      },
      "execution_count": 133,
      "outputs": [
        {
          "output_type": "execute_result",
          "data": {
            "text/plain": [
              "       Year   Female No.   Male No. \n",
              "14236  2013        128952     156062\n",
              "14502  2014        129702     163237\n",
              "14768  2015        130447     170426\n",
              "15034  2016        131207     177574\n",
              "15300  2017        131985     184674\n",
              "15566  2018        132801     191676\n",
              "15832  2019        133638     198620\n",
              "16098  2020        134485     205541\n",
              "16364  2021        135254     212665\n",
              "16630  2022        136484     218574"
            ],
            "text/html": [
              "\n",
              "  <div id=\"df-73dd2180-ec04-4fe5-9875-2cb0ca812fe0\" class=\"colab-df-container\">\n",
              "    <div>\n",
              "<style scoped>\n",
              "    .dataframe tbody tr th:only-of-type {\n",
              "        vertical-align: middle;\n",
              "    }\n",
              "\n",
              "    .dataframe tbody tr th {\n",
              "        vertical-align: top;\n",
              "    }\n",
              "\n",
              "    .dataframe thead th {\n",
              "        text-align: right;\n",
              "    }\n",
              "</style>\n",
              "<table border=\"1\" class=\"dataframe\">\n",
              "  <thead>\n",
              "    <tr style=\"text-align: right;\">\n",
              "      <th></th>\n",
              "      <th>Year</th>\n",
              "      <th>Female No.</th>\n",
              "      <th>Male No.</th>\n",
              "    </tr>\n",
              "  </thead>\n",
              "  <tbody>\n",
              "    <tr>\n",
              "      <th>14236</th>\n",
              "      <td>2013</td>\n",
              "      <td>128952</td>\n",
              "      <td>156062</td>\n",
              "    </tr>\n",
              "    <tr>\n",
              "      <th>14502</th>\n",
              "      <td>2014</td>\n",
              "      <td>129702</td>\n",
              "      <td>163237</td>\n",
              "    </tr>\n",
              "    <tr>\n",
              "      <th>14768</th>\n",
              "      <td>2015</td>\n",
              "      <td>130447</td>\n",
              "      <td>170426</td>\n",
              "    </tr>\n",
              "    <tr>\n",
              "      <th>15034</th>\n",
              "      <td>2016</td>\n",
              "      <td>131207</td>\n",
              "      <td>177574</td>\n",
              "    </tr>\n",
              "    <tr>\n",
              "      <th>15300</th>\n",
              "      <td>2017</td>\n",
              "      <td>131985</td>\n",
              "      <td>184674</td>\n",
              "    </tr>\n",
              "    <tr>\n",
              "      <th>15566</th>\n",
              "      <td>2018</td>\n",
              "      <td>132801</td>\n",
              "      <td>191676</td>\n",
              "    </tr>\n",
              "    <tr>\n",
              "      <th>15832</th>\n",
              "      <td>2019</td>\n",
              "      <td>133638</td>\n",
              "      <td>198620</td>\n",
              "    </tr>\n",
              "    <tr>\n",
              "      <th>16098</th>\n",
              "      <td>2020</td>\n",
              "      <td>134485</td>\n",
              "      <td>205541</td>\n",
              "    </tr>\n",
              "    <tr>\n",
              "      <th>16364</th>\n",
              "      <td>2021</td>\n",
              "      <td>135254</td>\n",
              "      <td>212665</td>\n",
              "    </tr>\n",
              "    <tr>\n",
              "      <th>16630</th>\n",
              "      <td>2022</td>\n",
              "      <td>136484</td>\n",
              "      <td>218574</td>\n",
              "    </tr>\n",
              "  </tbody>\n",
              "</table>\n",
              "</div>\n",
              "    <div class=\"colab-df-buttons\">\n",
              "\n",
              "  <div class=\"colab-df-container\">\n",
              "    <button class=\"colab-df-convert\" onclick=\"convertToInteractive('df-73dd2180-ec04-4fe5-9875-2cb0ca812fe0')\"\n",
              "            title=\"Convert this dataframe to an interactive table.\"\n",
              "            style=\"display:none;\">\n",
              "\n",
              "  <svg xmlns=\"http://www.w3.org/2000/svg\" height=\"24px\" viewBox=\"0 -960 960 960\">\n",
              "    <path d=\"M120-120v-720h720v720H120Zm60-500h600v-160H180v160Zm220 220h160v-160H400v160Zm0 220h160v-160H400v160ZM180-400h160v-160H180v160Zm440 0h160v-160H620v160ZM180-180h160v-160H180v160Zm440 0h160v-160H620v160Z\"/>\n",
              "  </svg>\n",
              "    </button>\n",
              "\n",
              "  <style>\n",
              "    .colab-df-container {\n",
              "      display:flex;\n",
              "      gap: 12px;\n",
              "    }\n",
              "\n",
              "    .colab-df-convert {\n",
              "      background-color: #E8F0FE;\n",
              "      border: none;\n",
              "      border-radius: 50%;\n",
              "      cursor: pointer;\n",
              "      display: none;\n",
              "      fill: #1967D2;\n",
              "      height: 32px;\n",
              "      padding: 0 0 0 0;\n",
              "      width: 32px;\n",
              "    }\n",
              "\n",
              "    .colab-df-convert:hover {\n",
              "      background-color: #E2EBFA;\n",
              "      box-shadow: 0px 1px 2px rgba(60, 64, 67, 0.3), 0px 1px 3px 1px rgba(60, 64, 67, 0.15);\n",
              "      fill: #174EA6;\n",
              "    }\n",
              "\n",
              "    .colab-df-buttons div {\n",
              "      margin-bottom: 4px;\n",
              "    }\n",
              "\n",
              "    [theme=dark] .colab-df-convert {\n",
              "      background-color: #3B4455;\n",
              "      fill: #D2E3FC;\n",
              "    }\n",
              "\n",
              "    [theme=dark] .colab-df-convert:hover {\n",
              "      background-color: #434B5C;\n",
              "      box-shadow: 0px 1px 3px 1px rgba(0, 0, 0, 0.15);\n",
              "      filter: drop-shadow(0px 1px 2px rgba(0, 0, 0, 0.3));\n",
              "      fill: #FFFFFF;\n",
              "    }\n",
              "  </style>\n",
              "\n",
              "    <script>\n",
              "      const buttonEl =\n",
              "        document.querySelector('#df-73dd2180-ec04-4fe5-9875-2cb0ca812fe0 button.colab-df-convert');\n",
              "      buttonEl.style.display =\n",
              "        google.colab.kernel.accessAllowed ? 'block' : 'none';\n",
              "\n",
              "      async function convertToInteractive(key) {\n",
              "        const element = document.querySelector('#df-73dd2180-ec04-4fe5-9875-2cb0ca812fe0');\n",
              "        const dataTable =\n",
              "          await google.colab.kernel.invokeFunction('convertToInteractive',\n",
              "                                                    [key], {});\n",
              "        if (!dataTable) return;\n",
              "\n",
              "        const docLinkHtml = 'Like what you see? Visit the ' +\n",
              "          '<a target=\"_blank\" href=https://colab.research.google.com/notebooks/data_table.ipynb>data table notebook</a>'\n",
              "          + ' to learn more about interactive tables.';\n",
              "        element.innerHTML = '';\n",
              "        dataTable['output_type'] = 'display_data';\n",
              "        await google.colab.output.renderOutput(dataTable, element);\n",
              "        const docLink = document.createElement('div');\n",
              "        docLink.innerHTML = docLinkHtml;\n",
              "        element.appendChild(docLink);\n",
              "      }\n",
              "    </script>\n",
              "  </div>\n",
              "\n",
              "\n",
              "<div id=\"df-9fd57b58-26ad-42a3-9ec0-bdb341e64cee\">\n",
              "  <button class=\"colab-df-quickchart\" onclick=\"quickchart('df-9fd57b58-26ad-42a3-9ec0-bdb341e64cee')\"\n",
              "            title=\"Suggest charts\"\n",
              "            style=\"display:none;\">\n",
              "\n",
              "<svg xmlns=\"http://www.w3.org/2000/svg\" height=\"24px\"viewBox=\"0 0 24 24\"\n",
              "     width=\"24px\">\n",
              "    <g>\n",
              "        <path d=\"M19 3H5c-1.1 0-2 .9-2 2v14c0 1.1.9 2 2 2h14c1.1 0 2-.9 2-2V5c0-1.1-.9-2-2-2zM9 17H7v-7h2v7zm4 0h-2V7h2v10zm4 0h-2v-4h2v4z\"/>\n",
              "    </g>\n",
              "</svg>\n",
              "  </button>\n",
              "\n",
              "<style>\n",
              "  .colab-df-quickchart {\n",
              "      --bg-color: #E8F0FE;\n",
              "      --fill-color: #1967D2;\n",
              "      --hover-bg-color: #E2EBFA;\n",
              "      --hover-fill-color: #174EA6;\n",
              "      --disabled-fill-color: #AAA;\n",
              "      --disabled-bg-color: #DDD;\n",
              "  }\n",
              "\n",
              "  [theme=dark] .colab-df-quickchart {\n",
              "      --bg-color: #3B4455;\n",
              "      --fill-color: #D2E3FC;\n",
              "      --hover-bg-color: #434B5C;\n",
              "      --hover-fill-color: #FFFFFF;\n",
              "      --disabled-bg-color: #3B4455;\n",
              "      --disabled-fill-color: #666;\n",
              "  }\n",
              "\n",
              "  .colab-df-quickchart {\n",
              "    background-color: var(--bg-color);\n",
              "    border: none;\n",
              "    border-radius: 50%;\n",
              "    cursor: pointer;\n",
              "    display: none;\n",
              "    fill: var(--fill-color);\n",
              "    height: 32px;\n",
              "    padding: 0;\n",
              "    width: 32px;\n",
              "  }\n",
              "\n",
              "  .colab-df-quickchart:hover {\n",
              "    background-color: var(--hover-bg-color);\n",
              "    box-shadow: 0 1px 2px rgba(60, 64, 67, 0.3), 0 1px 3px 1px rgba(60, 64, 67, 0.15);\n",
              "    fill: var(--button-hover-fill-color);\n",
              "  }\n",
              "\n",
              "  .colab-df-quickchart-complete:disabled,\n",
              "  .colab-df-quickchart-complete:disabled:hover {\n",
              "    background-color: var(--disabled-bg-color);\n",
              "    fill: var(--disabled-fill-color);\n",
              "    box-shadow: none;\n",
              "  }\n",
              "\n",
              "  .colab-df-spinner {\n",
              "    border: 2px solid var(--fill-color);\n",
              "    border-color: transparent;\n",
              "    border-bottom-color: var(--fill-color);\n",
              "    animation:\n",
              "      spin 1s steps(1) infinite;\n",
              "  }\n",
              "\n",
              "  @keyframes spin {\n",
              "    0% {\n",
              "      border-color: transparent;\n",
              "      border-bottom-color: var(--fill-color);\n",
              "      border-left-color: var(--fill-color);\n",
              "    }\n",
              "    20% {\n",
              "      border-color: transparent;\n",
              "      border-left-color: var(--fill-color);\n",
              "      border-top-color: var(--fill-color);\n",
              "    }\n",
              "    30% {\n",
              "      border-color: transparent;\n",
              "      border-left-color: var(--fill-color);\n",
              "      border-top-color: var(--fill-color);\n",
              "      border-right-color: var(--fill-color);\n",
              "    }\n",
              "    40% {\n",
              "      border-color: transparent;\n",
              "      border-right-color: var(--fill-color);\n",
              "      border-top-color: var(--fill-color);\n",
              "    }\n",
              "    60% {\n",
              "      border-color: transparent;\n",
              "      border-right-color: var(--fill-color);\n",
              "    }\n",
              "    80% {\n",
              "      border-color: transparent;\n",
              "      border-right-color: var(--fill-color);\n",
              "      border-bottom-color: var(--fill-color);\n",
              "    }\n",
              "    90% {\n",
              "      border-color: transparent;\n",
              "      border-bottom-color: var(--fill-color);\n",
              "    }\n",
              "  }\n",
              "</style>\n",
              "\n",
              "  <script>\n",
              "    async function quickchart(key) {\n",
              "      const quickchartButtonEl =\n",
              "        document.querySelector('#' + key + ' button');\n",
              "      quickchartButtonEl.disabled = true;  // To prevent multiple clicks.\n",
              "      quickchartButtonEl.classList.add('colab-df-spinner');\n",
              "      try {\n",
              "        const charts = await google.colab.kernel.invokeFunction(\n",
              "            'suggestCharts', [key], {});\n",
              "      } catch (error) {\n",
              "        console.error('Error during call to suggestCharts:', error);\n",
              "      }\n",
              "      quickchartButtonEl.classList.remove('colab-df-spinner');\n",
              "      quickchartButtonEl.classList.add('colab-df-quickchart-complete');\n",
              "    }\n",
              "    (() => {\n",
              "      let quickchartButtonEl =\n",
              "        document.querySelector('#df-9fd57b58-26ad-42a3-9ec0-bdb341e64cee button');\n",
              "      quickchartButtonEl.style.display =\n",
              "        google.colab.kernel.accessAllowed ? 'block' : 'none';\n",
              "    })();\n",
              "  </script>\n",
              "</div>\n",
              "    </div>\n",
              "  </div>\n"
            ],
            "application/vnd.google.colaboratory.intrinsic+json": {
              "type": "dataframe",
              "variable_name": "migrants",
              "summary": "{\n  \"name\": \"migrants\",\n  \"rows\": 10,\n  \"fields\": [\n    {\n      \"column\": \"Year\",\n      \"properties\": {\n        \"dtype\": \"number\",\n        \"std\": 3,\n        \"min\": 2013,\n        \"max\": 2022,\n        \"num_unique_values\": 10,\n        \"samples\": [\n          2021,\n          2014,\n          2018\n        ],\n        \"semantic_type\": \"\",\n        \"description\": \"\"\n      }\n    },\n    {\n      \"column\": \" Female No. \",\n      \"properties\": {\n        \"dtype\": \"number\",\n        \"std\": 2479,\n        \"min\": 128952,\n        \"max\": 136484,\n        \"num_unique_values\": 10,\n        \"samples\": [\n          135254,\n          129702,\n          132801\n        ],\n        \"semantic_type\": \"\",\n        \"description\": \"\"\n      }\n    },\n    {\n      \"column\": \"Male No. \",\n      \"properties\": {\n        \"dtype\": \"number\",\n        \"std\": 21184,\n        \"min\": 156062,\n        \"max\": 218574,\n        \"num_unique_values\": 10,\n        \"samples\": [\n          212665,\n          163237,\n          191676\n        ],\n        \"semantic_type\": \"\",\n        \"description\": \"\"\n      }\n    }\n  ]\n}"
            }
          },
          "metadata": {},
          "execution_count": 133
        }
      ]
    },
    {
      "cell_type": "code",
      "source": [
        "temp = fe[['Year', ' Female No. ', 'Male No. ']]\n"
      ],
      "metadata": {
        "id": "WBJnYIwSnITK"
      },
      "execution_count": 134,
      "outputs": []
    },
    {
      "cell_type": "code",
      "source": [
        "work_migrants = pd.concat([temp, migrants])"
      ],
      "metadata": {
        "id": "6K2gh_pQohQQ"
      },
      "execution_count": 135,
      "outputs": []
    },
    {
      "cell_type": "code",
      "source": [
        "work_migrants2012 = work_migrants[(work_migrants['Year'] > 2011)]"
      ],
      "metadata": {
        "id": "G05726F-oy0T"
      },
      "execution_count": 136,
      "outputs": []
    },
    {
      "cell_type": "code",
      "source": [
        "temp = temp[(temp['Year'] > 1993)]"
      ],
      "metadata": {
        "id": "b7YuQ69gjOaP"
      },
      "execution_count": 137,
      "outputs": []
    },
    {
      "cell_type": "code",
      "source": [
        "plt.figure(figsize=(12, 6))\n",
        "# Plot the data for other years as a solid line\n",
        "plt.plot(temp['Year'], temp['Male No. '], linestyle='-', label='Male', color='red')\n",
        "plt.plot(temp['Year'], temp[' Female No. '], linestyle='-', label='Female', color='blue')\n",
        "\n",
        "# Plot the data for 2013-2022 as a dotted line\n",
        "plt.plot(work_migrants2012['Year'], work_migrants2012['Male No. '], linestyle='--', color='red' , label='Predicted Male')\n",
        "plt.plot(work_migrants2012['Year'], work_migrants2012[' Female No. '], linestyle='--', color='blue', label='Predicted Female')\n",
        "\n",
        "# Set labels and title\n",
        "plt.xlabel('Year')\n",
        "plt.ylabel('Count')\n",
        "plt.title('Total Departures for Foreign Employment by gender - (1994 - 2022)')\n",
        "plt.legend()\n",
        "\n",
        "# Show plot\n",
        "plt.tight_layout()\n",
        "plt.show()"
      ],
      "metadata": {
        "colab": {
          "base_uri": "https://localhost:8080/",
          "height": 607
        },
        "id": "JC7TfHXguU_x",
        "outputId": "cd873835-eb06-4815-a52d-71b10ef561c4"
      },
      "execution_count": 138,
      "outputs": [
        {
          "output_type": "display_data",
          "data": {
            "text/plain": [
              "<Figure size 1200x600 with 1 Axes>"
            ],
            "image/png": "[encoded data removed]"
          },
          "metadata": {}
        }
      ]
    },
    {
      "cell_type": "code",
      "source": [
        "fem.columns"
      ],
      "metadata": {
        "colab": {
          "base_uri": "https://localhost:8080/"
        },
        "id": "CYilcct6yaWW",
        "outputId": "4a601257-2b5f-4c2b-fecd-da0d42ed1eb5"
      },
      "execution_count": 139,
      "outputs": [
        {
          "output_type": "execute_result",
          "data": {
            "text/plain": [
              "Index(['Year', 'Professional Level No.', 'Professional Level % ',\n",
              "       'Middle Level No.', 'Middle Level  % ', 'Clerical & Related No.',\n",
              "       'Clerical & Related  % ', 'Skilled No.', 'Skilled % ',\n",
              "       'Semi Skilled No. ', 'Semi Skilled % ', 'Unskilled No.', 'Unskilled %',\n",
              "       'Housemaid No.', 'Housemaid %', 'Total'],\n",
              "      dtype='object')"
            ]
          },
          "metadata": {},
          "execution_count": 139
        }
      ]
    },
    {
      "cell_type": "code",
      "source": [
        "manpower = fem[['Year','Professional Level No.','Middle Level No.','Clerical & Related No.', 'Skilled No.','Unskilled No.','Housemaid No.' ]]"
      ],
      "metadata": {
        "id": "TUV1SUkcydv2"
      },
      "execution_count": 140,
      "outputs": []
    },
    {
      "cell_type": "code",
      "source": [
        "# Reshape the data to long format\n",
        "df_manpower = manpower.melt(id_vars='Year', var_name='Manpower Level', value_name='Value')"
      ],
      "metadata": {
        "id": "bLrnMwARgGNn"
      },
      "execution_count": 141,
      "outputs": []
    },
    {
      "cell_type": "code",
      "source": [
        "df_manpower['Manpower Level'] = df_manpower['Manpower Level'].str.replace(' Level No.', '')\n",
        "df_manpower['Manpower Level'] = df_manpower['Manpower Level'].str.replace(' No.', '')"
      ],
      "metadata": {
        "colab": {
          "base_uri": "https://localhost:8080/"
        },
        "id": "Z2N0ykuR16mH",
        "outputId": "35185f48-b8ed-40b1-99ad-433082f6cb85"
      },
      "execution_count": 142,
      "outputs": [
        {
          "output_type": "stream",
          "name": "stderr",
          "text": [
            "<ipython-input-142-72e0ce231962>:1: FutureWarning: The default value of regex will change from True to False in a future version.\n",
            "  df_manpower['Manpower Level'] = df_manpower['Manpower Level'].str.replace(' Level No.', '')\n",
            "<ipython-input-142-72e0ce231962>:2: FutureWarning: The default value of regex will change from True to False in a future version.\n",
            "  df_manpower['Manpower Level'] = df_manpower['Manpower Level'].str.replace(' No.', '')\n"
          ]
        }
      ]
    },
    {
      "cell_type": "markdown",
      "source": [
        "## Predict Manpower count for 2012-2022\n"
      ],
      "metadata": {
        "id": "SllFEjOD5EmN"
      }
    },
    {
      "cell_type": "code",
      "source": [
        "# df_manpower['Year'] = pd.to_datetime(df_manpower['Year'], format='%Y')"
      ],
      "metadata": {
        "id": "B0QJ5eL72TIG"
      },
      "execution_count": 143,
      "outputs": []
    },
    {
      "cell_type": "code",
      "source": [
        "train = df_manpower"
      ],
      "metadata": {
        "id": "rE3ZAIGr5DNb"
      },
      "execution_count": 144,
      "outputs": []
    },
    {
      "cell_type": "code",
      "source": [
        "data = {\n",
        "    'Year': [2013, 2014, 2015, 2016, 2017, 2018, 2019, 2020, 2021, 2022],\n",
        "    'Professional Level No.': [0,0,0,0,0,0,0,0,0,0],\n",
        "    'Middle Level No.': [0,0,0,0,0,0,0,0,0,0],\n",
        "    'Clerical & Related No.': [0,0,0,0,0,0,0,0,0,0],\n",
        "    'Skilled No.': [0,0,0,0,0,0,0,0,0,0],\n",
        "    'Unskilled No.': [0,0,0,0,0,0,0,0,0,0],\n",
        "    'Housemaid No.': [0,0,0,0,0,0,0,0,0,0],\n",
        "}\n",
        "\n",
        "df1 = pd.DataFrame(data)\n",
        "\n",
        "# Reshape the data to long format\n",
        "df_manpower_test = df1.melt(id_vars='Year', var_name='Manpower Level', value_name='Value')"
      ],
      "metadata": {
        "id": "kXyHaqaD532-"
      },
      "execution_count": 145,
      "outputs": []
    },
    {
      "cell_type": "code",
      "source": [
        "df_manpower_test = pd.merge(df_manpower_test, migrants,how='left', on='Year')"
      ],
      "metadata": {
        "id": "5p2gVvbm7Vst"
      },
      "execution_count": 146,
      "outputs": []
    },
    {
      "cell_type": "code",
      "source": [
        "# Initialize LabelEncoder\n",
        "label_encoder = LabelEncoder()\n",
        "\n",
        "# Fit and transform the 'Manpower' column\n",
        "df_manpower_test[\"Manpower Level\"] = label_encoder.fit_transform(df_manpower_test[\"Manpower Level\"])"
      ],
      "metadata": {
        "id": "Xo1sLTyiMW1R"
      },
      "execution_count": 147,
      "outputs": []
    },
    {
      "cell_type": "code",
      "source": [
        "df_manpower_test.drop('Value',axis=1,inplace=True)"
      ],
      "metadata": {
        "id": "E-lxRfnET3LD"
      },
      "execution_count": 148,
      "outputs": []
    },
    {
      "cell_type": "code",
      "source": [
        "df2 = fe[[' Female No. ', 'Year', 'Male No. ']]\n",
        "df_manpower_train = pd.merge(df_manpower, df2, how='left', on='Year')"
      ],
      "metadata": {
        "id": "vsT99-6Q8Nlc"
      },
      "execution_count": 149,
      "outputs": []
    },
    {
      "cell_type": "code",
      "source": [
        "# Fit and transform the 'Manpower' column\n",
        "df_manpower_train[\"Manpower Level\"] = label_encoder.fit_transform(df_manpower_train[\"Manpower Level\"])"
      ],
      "metadata": {
        "id": "AYPixoxDTW-7"
      },
      "execution_count": 150,
      "outputs": []
    },
    {
      "cell_type": "code",
      "source": [
        "df_manpower_train"
      ],
      "metadata": {
        "colab": {
          "base_uri": "https://localhost:8080/",
          "height": 424
        },
        "id": "ULM_VRbxRH7l",
        "outputId": "0574266d-6992-42fc-a956-0a353c99e53a"
      },
      "execution_count": 151,
      "outputs": [
        {
          "output_type": "execute_result",
          "data": {
            "text/plain": [
              "     Year  Manpower Level   Value   Female No.   Male No. \n",
              "0    1994               3     262         43791      16377\n",
              "1    1995               3     878        126468      46021\n",
              "2    1996               3     599        119464      43112\n",
              "3    1997               3     573        112731      37552\n",
              "4    1998               3     695        105949      53867\n",
              "..    ...             ...     ...           ...        ...\n",
              "109  2008               1  107923        122267     128232\n",
              "110  2009               1  113678        127745     119381\n",
              "111  2010               1  112752        130657     136850\n",
              "112  2011               1  107491        126654     136307\n",
              "113  2012               1  119052        138547     143784\n",
              "\n",
              "[114 rows x 5 columns]"
            ],
            "text/html": [
              "\n",
              "  <div id=\"df-d2fa87a4-fa04-494d-998b-6cbf542263ea\" class=\"colab-df-container\">\n",
              "    <div>\n",
              "<style scoped>\n",
              "    .dataframe tbody tr th:only-of-type {\n",
              "        vertical-align: middle;\n",
              "    }\n",
              "\n",
              "    .dataframe tbody tr th {\n",
              "        vertical-align: top;\n",
              "    }\n",
              "\n",
              "    .dataframe thead th {\n",
              "        text-align: right;\n",
              "    }\n",
              "</style>\n",
              "<table border=\"1\" class=\"dataframe\">\n",
              "  <thead>\n",
              "    <tr style=\"text-align: right;\">\n",
              "      <th></th>\n",
              "      <th>Year</th>\n",
              "      <th>Manpower Level</th>\n",
              "      <th>Value</th>\n",
              "      <th>Female No.</th>\n",
              "      <th>Male No.</th>\n",
              "    </tr>\n",
              "  </thead>\n",
              "  <tbody>\n",
              "    <tr>\n",
              "      <th>0</th>\n",
              "      <td>1994</td>\n",
              "      <td>3</td>\n",
              "      <td>262</td>\n",
              "      <td>43791</td>\n",
              "      <td>16377</td>\n",
              "    </tr>\n",
              "    <tr>\n",
              "      <th>1</th>\n",
              "      <td>1995</td>\n",
              "      <td>3</td>\n",
              "      <td>878</td>\n",
              "      <td>126468</td>\n",
              "      <td>46021</td>\n",
              "    </tr>\n",
              "    <tr>\n",
              "      <th>2</th>\n",
              "      <td>1996</td>\n",
              "      <td>3</td>\n",
              "      <td>599</td>\n",
              "      <td>119464</td>\n",
              "      <td>43112</td>\n",
              "    </tr>\n",
              "    <tr>\n",
              "      <th>3</th>\n",
              "      <td>1997</td>\n",
              "      <td>3</td>\n",
              "      <td>573</td>\n",
              "      <td>112731</td>\n",
              "      <td>37552</td>\n",
              "    </tr>\n",
              "    <tr>\n",
              "      <th>4</th>\n",
              "      <td>1998</td>\n",
              "      <td>3</td>\n",
              "      <td>695</td>\n",
              "      <td>105949</td>\n",
              "      <td>53867</td>\n",
              "    </tr>\n",
              "    <tr>\n",
              "      <th>...</th>\n",
              "      <td>...</td>\n",
              "      <td>...</td>\n",
              "      <td>...</td>\n",
              "      <td>...</td>\n",
              "      <td>...</td>\n",
              "    </tr>\n",
              "    <tr>\n",
              "      <th>109</th>\n",
              "      <td>2008</td>\n",
              "      <td>1</td>\n",
              "      <td>107923</td>\n",
              "      <td>122267</td>\n",
              "      <td>128232</td>\n",
              "    </tr>\n",
              "    <tr>\n",
              "      <th>110</th>\n",
              "      <td>2009</td>\n",
              "      <td>1</td>\n",
              "      <td>113678</td>\n",
              "      <td>127745</td>\n",
              "      <td>119381</td>\n",
              "    </tr>\n",
              "    <tr>\n",
              "      <th>111</th>\n",
              "      <td>2010</td>\n",
              "      <td>1</td>\n",
              "      <td>112752</td>\n",
              "      <td>130657</td>\n",
              "      <td>136850</td>\n",
              "    </tr>\n",
              "    <tr>\n",
              "      <th>112</th>\n",
              "      <td>2011</td>\n",
              "      <td>1</td>\n",
              "      <td>107491</td>\n",
              "      <td>126654</td>\n",
              "      <td>136307</td>\n",
              "    </tr>\n",
              "    <tr>\n",
              "      <th>113</th>\n",
              "      <td>2012</td>\n",
              "      <td>1</td>\n",
              "      <td>119052</td>\n",
              "      <td>138547</td>\n",
              "      <td>143784</td>\n",
              "    </tr>\n",
              "  </tbody>\n",
              "</table>\n",
              "<p>114 rows × 5 columns</p>\n",
              "</div>\n",
              "    <div class=\"colab-df-buttons\">\n",
              "\n",
              "  <div class=\"colab-df-container\">\n",
              "    <button class=\"colab-df-convert\" onclick=\"convertToInteractive('df-d2fa87a4-fa04-494d-998b-6cbf542263ea')\"\n",
              "            title=\"Convert this dataframe to an interactive table.\"\n",
              "            style=\"display:none;\">\n",
              "\n",
              "  <svg xmlns=\"http://www.w3.org/2000/svg\" height=\"24px\" viewBox=\"0 -960 960 960\">\n",
              "    <path d=\"M120-120v-720h720v720H120Zm60-500h600v-160H180v160Zm220 220h160v-160H400v160Zm0 220h160v-160H400v160ZM180-400h160v-160H180v160Zm440 0h160v-160H620v160ZM180-180h160v-160H180v160Zm440 0h160v-160H620v160Z\"/>\n",
              "  </svg>\n",
              "    </button>\n",
              "\n",
              "  <style>\n",
              "    .colab-df-container {\n",
              "      display:flex;\n",
              "      gap: 12px;\n",
              "    }\n",
              "\n",
              "    .colab-df-convert {\n",
              "      background-color: #E8F0FE;\n",
              "      border: none;\n",
              "      border-radius: 50%;\n",
              "      cursor: pointer;\n",
              "      display: none;\n",
              "      fill: #1967D2;\n",
              "      height: 32px;\n",
              "      padding: 0 0 0 0;\n",
              "      width: 32px;\n",
              "    }\n",
              "\n",
              "    .colab-df-convert:hover {\n",
              "      background-color: #E2EBFA;\n",
              "      box-shadow: 0px 1px 2px rgba(60, 64, 67, 0.3), 0px 1px 3px 1px rgba(60, 64, 67, 0.15);\n",
              "      fill: #174EA6;\n",
              "    }\n",
              "\n",
              "    .colab-df-buttons div {\n",
              "      margin-bottom: 4px;\n",
              "    }\n",
              "\n",
              "    [theme=dark] .colab-df-convert {\n",
              "      background-color: #3B4455;\n",
              "      fill: #D2E3FC;\n",
              "    }\n",
              "\n",
              "    [theme=dark] .colab-df-convert:hover {\n",
              "      background-color: #434B5C;\n",
              "      box-shadow: 0px 1px 3px 1px rgba(0, 0, 0, 0.15);\n",
              "      filter: drop-shadow(0px 1px 2px rgba(0, 0, 0, 0.3));\n",
              "      fill: #FFFFFF;\n",
              "    }\n",
              "  </style>\n",
              "\n",
              "    <script>\n",
              "      const buttonEl =\n",
              "        document.querySelector('#df-d2fa87a4-fa04-494d-998b-6cbf542263ea button.colab-df-convert');\n",
              "      buttonEl.style.display =\n",
              "        google.colab.kernel.accessAllowed ? 'block' : 'none';\n",
              "\n",
              "      async function convertToInteractive(key) {\n",
              "        const element = document.querySelector('#df-d2fa87a4-fa04-494d-998b-6cbf542263ea');\n",
              "        const dataTable =\n",
              "          await google.colab.kernel.invokeFunction('convertToInteractive',\n",
              "                                                    [key], {});\n",
              "        if (!dataTable) return;\n",
              "\n",
              "        const docLinkHtml = 'Like what you see? Visit the ' +\n",
              "          '<a target=\"_blank\" href=https://colab.research.google.com/notebooks/data_table.ipynb>data table notebook</a>'\n",
              "          + ' to learn more about interactive tables.';\n",
              "        element.innerHTML = '';\n",
              "        dataTable['output_type'] = 'display_data';\n",
              "        await google.colab.output.renderOutput(dataTable, element);\n",
              "        const docLink = document.createElement('div');\n",
              "        docLink.innerHTML = docLinkHtml;\n",
              "        element.appendChild(docLink);\n",
              "      }\n",
              "    </script>\n",
              "  </div>\n",
              "\n",
              "\n",
              "<div id=\"df-85805663-440e-4ddb-b4a4-cc556151952e\">\n",
              "  <button class=\"colab-df-quickchart\" onclick=\"quickchart('df-85805663-440e-4ddb-b4a4-cc556151952e')\"\n",
              "            title=\"Suggest charts\"\n",
              "            style=\"display:none;\">\n",
              "\n",
              "<svg xmlns=\"http://www.w3.org/2000/svg\" height=\"24px\"viewBox=\"0 0 24 24\"\n",
              "     width=\"24px\">\n",
              "    <g>\n",
              "        <path d=\"M19 3H5c-1.1 0-2 .9-2 2v14c0 1.1.9 2 2 2h14c1.1 0 2-.9 2-2V5c0-1.1-.9-2-2-2zM9 17H7v-7h2v7zm4 0h-2V7h2v10zm4 0h-2v-4h2v4z\"/>\n",
              "    </g>\n",
              "</svg>\n",
              "  </button>\n",
              "\n",
              "<style>\n",
              "  .colab-df-quickchart {\n",
              "      --bg-color: #E8F0FE;\n",
              "      --fill-color: #1967D2;\n",
              "      --hover-bg-color: #E2EBFA;\n",
              "      --hover-fill-color: #174EA6;\n",
              "      --disabled-fill-color: #AAA;\n",
              "      --disabled-bg-color: #DDD;\n",
              "  }\n",
              "\n",
              "  [theme=dark] .colab-df-quickchart {\n",
              "      --bg-color: #3B4455;\n",
              "      --fill-color: #D2E3FC;\n",
              "      --hover-bg-color: #434B5C;\n",
              "      --hover-fill-color: #FFFFFF;\n",
              "      --disabled-bg-color: #3B4455;\n",
              "      --disabled-fill-color: #666;\n",
              "  }\n",
              "\n",
              "  .colab-df-quickchart {\n",
              "    background-color: var(--bg-color);\n",
              "    border: none;\n",
              "    border-radius: 50%;\n",
              "    cursor: pointer;\n",
              "    display: none;\n",
              "    fill: var(--fill-color);\n",
              "    height: 32px;\n",
              "    padding: 0;\n",
              "    width: 32px;\n",
              "  }\n",
              "\n",
              "  .colab-df-quickchart:hover {\n",
              "    background-color: var(--hover-bg-color);\n",
              "    box-shadow: 0 1px 2px rgba(60, 64, 67, 0.3), 0 1px 3px 1px rgba(60, 64, 67, 0.15);\n",
              "    fill: var(--button-hover-fill-color);\n",
              "  }\n",
              "\n",
              "  .colab-df-quickchart-complete:disabled,\n",
              "  .colab-df-quickchart-complete:disabled:hover {\n",
              "    background-color: var(--disabled-bg-color);\n",
              "    fill: var(--disabled-fill-color);\n",
              "    box-shadow: none;\n",
              "  }\n",
              "\n",
              "  .colab-df-spinner {\n",
              "    border: 2px solid var(--fill-color);\n",
              "    border-color: transparent;\n",
              "    border-bottom-color: var(--fill-color);\n",
              "    animation:\n",
              "      spin 1s steps(1) infinite;\n",
              "  }\n",
              "\n",
              "  @keyframes spin {\n",
              "    0% {\n",
              "      border-color: transparent;\n",
              "      border-bottom-color: var(--fill-color);\n",
              "      border-left-color: var(--fill-color);\n",
              "    }\n",
              "    20% {\n",
              "      border-color: transparent;\n",
              "      border-left-color: var(--fill-color);\n",
              "      border-top-color: var(--fill-color);\n",
              "    }\n",
              "    30% {\n",
              "      border-color: transparent;\n",
              "      border-left-color: var(--fill-color);\n",
              "      border-top-color: var(--fill-color);\n",
              "      border-right-color: var(--fill-color);\n",
              "    }\n",
              "    40% {\n",
              "      border-color: transparent;\n",
              "      border-right-color: var(--fill-color);\n",
              "      border-top-color: var(--fill-color);\n",
              "    }\n",
              "    60% {\n",
              "      border-color: transparent;\n",
              "      border-right-color: var(--fill-color);\n",
              "    }\n",
              "    80% {\n",
              "      border-color: transparent;\n",
              "      border-right-color: var(--fill-color);\n",
              "      border-bottom-color: var(--fill-color);\n",
              "    }\n",
              "    90% {\n",
              "      border-color: transparent;\n",
              "      border-bottom-color: var(--fill-color);\n",
              "    }\n",
              "  }\n",
              "</style>\n",
              "\n",
              "  <script>\n",
              "    async function quickchart(key) {\n",
              "      const quickchartButtonEl =\n",
              "        document.querySelector('#' + key + ' button');\n",
              "      quickchartButtonEl.disabled = true;  // To prevent multiple clicks.\n",
              "      quickchartButtonEl.classList.add('colab-df-spinner');\n",
              "      try {\n",
              "        const charts = await google.colab.kernel.invokeFunction(\n",
              "            'suggestCharts', [key], {});\n",
              "      } catch (error) {\n",
              "        console.error('Error during call to suggestCharts:', error);\n",
              "      }\n",
              "      quickchartButtonEl.classList.remove('colab-df-spinner');\n",
              "      quickchartButtonEl.classList.add('colab-df-quickchart-complete');\n",
              "    }\n",
              "    (() => {\n",
              "      let quickchartButtonEl =\n",
              "        document.querySelector('#df-85805663-440e-4ddb-b4a4-cc556151952e button');\n",
              "      quickchartButtonEl.style.display =\n",
              "        google.colab.kernel.accessAllowed ? 'block' : 'none';\n",
              "    })();\n",
              "  </script>\n",
              "</div>\n",
              "    </div>\n",
              "  </div>\n"
            ],
            "application/vnd.google.colaboratory.intrinsic+json": {
              "type": "dataframe",
              "variable_name": "df_manpower_train",
              "summary": "{\n  \"name\": \"df_manpower_train\",\n  \"rows\": 114,\n  \"fields\": [\n    {\n      \"column\": \"Year\",\n      \"properties\": {\n        \"dtype\": \"number\",\n        \"std\": 5,\n        \"min\": 1994,\n        \"max\": 2012,\n        \"num_unique_values\": 19,\n        \"samples\": [\n          1994,\n          1999,\n          2005\n        ],\n        \"semantic_type\": \"\",\n        \"description\": \"\"\n      }\n    },\n    {\n      \"column\": \"Manpower Level\",\n      \"properties\": {\n        \"dtype\": \"number\",\n        \"std\": 1,\n        \"min\": 0,\n        \"max\": 5,\n        \"num_unique_values\": 6,\n        \"samples\": [\n          3,\n          2,\n          1\n        ],\n        \"semantic_type\": \"\",\n        \"description\": \"\"\n      }\n    },\n    {\n      \"column\": \"Value\",\n      \"properties\": {\n        \"dtype\": \"number\",\n        \"std\": 37318,\n        \"min\": 262,\n        \"max\": 125493,\n        \"num_unique_values\": 114,\n        \"samples\": [\n          34304,\n          695,\n          3371\n        ],\n        \"semantic_type\": \"\",\n        \"description\": \"\"\n      }\n    },\n    {\n      \"column\": \" Female No. \",\n      \"properties\": {\n        \"dtype\": \"number\",\n        \"std\": 20230,\n        \"min\": 43791,\n        \"max\": 138547,\n        \"num_unique_values\": 19,\n        \"samples\": [\n          43791,\n          116015,\n          137394\n        ],\n        \"semantic_type\": \"\",\n        \"description\": \"\"\n      }\n    },\n    {\n      \"column\": \"Male No. \",\n      \"properties\": {\n        \"dtype\": \"number\",\n        \"std\": 36701,\n        \"min\": 16377,\n        \"max\": 143784,\n        \"num_unique_values\": 19,\n        \"samples\": [\n          16377,\n          63720,\n          93896\n        ],\n        \"semantic_type\": \"\",\n        \"description\": \"\"\n      }\n    }\n  ]\n}"
            }
          },
          "metadata": {},
          "execution_count": 151
        }
      ]
    },
    {
      "cell_type": "code",
      "source": [
        "x = df_manpower_train.drop(['Value'],axis=1)\n",
        "y = df_manpower_train['Value']\n",
        "\n",
        "X_train, X_test, y_train, y_test = train_test_split(x, y, test_size=0.2, random_state=42)"
      ],
      "metadata": {
        "id": "0e49b5EeTBDe"
      },
      "execution_count": 152,
      "outputs": []
    },
    {
      "cell_type": "code",
      "source": [
        "# linear regression\n",
        "\n",
        "lrm = LinearRegression()\n",
        "lrm.fit(X_train,y_train)\n",
        "Y_pred_manpower = lrm.predict(X_test)\n",
        "\n",
        "# Evaluate the model\n",
        "squared_log_errors = (np.log1p(Y_pred_manpower) - np.log1p(y_test)) ** 2\n",
        "mean_squared_log_error = np.mean(squared_log_errors)\n",
        "rmsle = np.sqrt(mean_squared_log_error)\n",
        "\n",
        "print(\"RMSLE:\", rmsle)"
      ],
      "metadata": {
        "colab": {
          "base_uri": "https://localhost:8080/"
        },
        "id": "SCtiolbwTKZN",
        "outputId": "0bbfc09a-cb01-4252-d486-3a7485200884"
      },
      "execution_count": 153,
      "outputs": [
        {
          "output_type": "stream",
          "name": "stdout",
          "text": [
            "RMSLE: 1.9444469537237012\n"
          ]
        }
      ]
    },
    {
      "cell_type": "code",
      "source": [
        "# predict manpower # for test set\n",
        "y_pred_manpower_test = lrm.predict(df_manpower_test)\n",
        "\n",
        "print(y_pred_manpower_test)"
      ],
      "metadata": {
        "colab": {
          "base_uri": "https://localhost:8080/"
        },
        "id": "XRn8R39fTL5F",
        "outputId": "a9f1cc6d-6f30-4406-824d-4001803ca9bb"
      },
      "execution_count": 154,
      "outputs": [
        {
          "output_type": "stream",
          "name": "stdout",
          "text": [
            "[48042.16203681 49420.36404425 50799.30987294 52176.13953224\n",
            " 53550.56814151 54920.31218189 56287.02440852 57652.82546443\n",
            " 59028.45459871 60344.24272618 48521.10158488 49899.30359232\n",
            " 51278.24942101 52655.07908031 54029.50768958 55399.25172996\n",
            " 56765.96395658 58131.76501249 59507.39414678 60823.18227425\n",
            " 49478.98068102 50857.18268846 52236.12851715 53612.95817645\n",
            " 54987.38678572 56357.1308261  57723.84305272 59089.64410863\n",
            " 60465.27324292 61781.06137039 47563.22248874 48941.42449618\n",
            " 50320.37032487 51697.19998418 53071.62859344 54441.37263382\n",
            " 55808.08486045 57173.88591636 58549.51505064 59865.30317811\n",
            " 47084.28294067 48462.48494811 49841.4307768  51218.26043611\n",
            " 52592.68904538 53962.43308575 55329.14531238 56694.94636829\n",
            " 58070.57550257 59386.36363004 49000.04113295 50378.24314039\n",
            " 51757.18896908 53134.01862838 54508.44723765 55878.19127803\n",
            " 57244.90350465 58610.70456056 59986.33369485 61302.12182232]\n"
          ]
        }
      ]
    },
    {
      "cell_type": "code",
      "source": [
        "predicted_manpower = pd.DataFrame({'Year': df_manpower_test['Year'], 'Manpower Level': df_manpower_test['Manpower Level'], 'Value': y_pred_manpower_test.astype(int)})"
      ],
      "metadata": {
        "id": "TN3c29OZTorI"
      },
      "execution_count": 155,
      "outputs": []
    },
    {
      "cell_type": "code",
      "source": [
        "# inverse transform the 'Manpower' column\n",
        "predicted_manpower[\"Manpower Level\"] = label_encoder.inverse_transform(predicted_manpower['Manpower Level'])"
      ],
      "metadata": {
        "id": "PM5erxXUUz9W"
      },
      "execution_count": 156,
      "outputs": []
    },
    {
      "cell_type": "code",
      "source": [
        "records_2012 = df_manpower[df_manpower['Year'] == 2012]\n",
        "\n",
        "# Print the records for the year 2013\n",
        "print(records_2012)"
      ],
      "metadata": {
        "colab": {
          "base_uri": "https://localhost:8080/"
        },
        "id": "tG6cRynnW4F2",
        "outputId": "de9f22ab-e443-49eb-8365-79df117f5b04"
      },
      "execution_count": 157,
      "outputs": [
        {
          "output_type": "stream",
          "name": "stdout",
          "text": [
            "     Year      Manpower Level   Value\n",
            "18   2012        Professional    4445\n",
            "37   2012              Middle    9278\n",
            "56   2012  Clerical & Related   16166\n",
            "75   2012             Skilled   67078\n",
            "94   2012           Unskilled   62847\n",
            "113  2012           Housemaid  119052\n"
          ]
        }
      ]
    },
    {
      "cell_type": "code",
      "source": [
        "predicted_manpower = pd.concat([predicted_manpower,records_2012 ])"
      ],
      "metadata": {
        "id": "Vbkett2pXARO"
      },
      "execution_count": 158,
      "outputs": []
    },
    {
      "cell_type": "code",
      "source": [
        "predicted_manpower = predicted_manpower.sort_values(by='Year')"
      ],
      "metadata": {
        "id": "ybv6zdi_YNNE"
      },
      "execution_count": 159,
      "outputs": []
    },
    {
      "cell_type": "code",
      "source": [
        "predicted_manpower"
      ],
      "metadata": {
        "colab": {
          "base_uri": "https://localhost:8080/",
          "height": 424
        },
        "id": "BO7hkaKrXbeG",
        "outputId": "77e0a99a-2190-4a06-c4f2-b06c4cea1474"
      },
      "execution_count": 160,
      "outputs": [
        {
          "output_type": "execute_result",
          "data": {
            "text/plain": [
              "     Year      Manpower Level   Value\n",
              "113  2012           Housemaid  119052\n",
              "75   2012             Skilled   67078\n",
              "56   2012  Clerical & Related   16166\n",
              "37   2012              Middle    9278\n",
              "18   2012        Professional    4445\n",
              "..    ...                 ...     ...\n",
              "59   2022           Housemaid   61302\n",
              "49   2022           Unskilled   59386\n",
              "9    2022        Professional   60344\n",
              "19   2022              Middle   60823\n",
              "29   2022  Clerical & Related   61781\n",
              "\n",
              "[66 rows x 3 columns]"
            ],
            "text/html": [
              "\n",
              "  <div id=\"df-c814fee0-736d-4d27-a214-b8548d6b79c9\" class=\"colab-df-container\">\n",
              "    <div>\n",
              "<style scoped>\n",
              "    .dataframe tbody tr th:only-of-type {\n",
              "        vertical-align: middle;\n",
              "    }\n",
              "\n",
              "    .dataframe tbody tr th {\n",
              "        vertical-align: top;\n",
              "    }\n",
              "\n",
              "    .dataframe thead th {\n",
              "        text-align: right;\n",
              "    }\n",
              "</style>\n",
              "<table border=\"1\" class=\"dataframe\">\n",
              "  <thead>\n",
              "    <tr style=\"text-align: right;\">\n",
              "      <th></th>\n",
              "      <th>Year</th>\n",
              "      <th>Manpower Level</th>\n",
              "      <th>Value</th>\n",
              "    </tr>\n",
              "  </thead>\n",
              "  <tbody>\n",
              "    <tr>\n",
              "      <th>113</th>\n",
              "      <td>2012</td>\n",
              "      <td>Housemaid</td>\n",
              "      <td>119052</td>\n",
              "    </tr>\n",
              "    <tr>\n",
              "      <th>75</th>\n",
              "      <td>2012</td>\n",
              "      <td>Skilled</td>\n",
              "      <td>67078</td>\n",
              "    </tr>\n",
              "    <tr>\n",
              "      <th>56</th>\n",
              "      <td>2012</td>\n",
              "      <td>Clerical &amp; Related</td>\n",
              "      <td>16166</td>\n",
              "    </tr>\n",
              "    <tr>\n",
              "      <th>37</th>\n",
              "      <td>2012</td>\n",
              "      <td>Middle</td>\n",
              "      <td>9278</td>\n",
              "    </tr>\n",
              "    <tr>\n",
              "      <th>18</th>\n",
              "      <td>2012</td>\n",
              "      <td>Professional</td>\n",
              "      <td>4445</td>\n",
              "    </tr>\n",
              "    <tr>\n",
              "      <th>...</th>\n",
              "      <td>...</td>\n",
              "      <td>...</td>\n",
              "      <td>...</td>\n",
              "    </tr>\n",
              "    <tr>\n",
              "      <th>59</th>\n",
              "      <td>2022</td>\n",
              "      <td>Housemaid</td>\n",
              "      <td>61302</td>\n",
              "    </tr>\n",
              "    <tr>\n",
              "      <th>49</th>\n",
              "      <td>2022</td>\n",
              "      <td>Unskilled</td>\n",
              "      <td>59386</td>\n",
              "    </tr>\n",
              "    <tr>\n",
              "      <th>9</th>\n",
              "      <td>2022</td>\n",
              "      <td>Professional</td>\n",
              "      <td>60344</td>\n",
              "    </tr>\n",
              "    <tr>\n",
              "      <th>19</th>\n",
              "      <td>2022</td>\n",
              "      <td>Middle</td>\n",
              "      <td>60823</td>\n",
              "    </tr>\n",
              "    <tr>\n",
              "      <th>29</th>\n",
              "      <td>2022</td>\n",
              "      <td>Clerical &amp; Related</td>\n",
              "      <td>61781</td>\n",
              "    </tr>\n",
              "  </tbody>\n",
              "</table>\n",
              "<p>66 rows × 3 columns</p>\n",
              "</div>\n",
              "    <div class=\"colab-df-buttons\">\n",
              "\n",
              "  <div class=\"colab-df-container\">\n",
              "    <button class=\"colab-df-convert\" onclick=\"convertToInteractive('df-c814fee0-736d-4d27-a214-b8548d6b79c9')\"\n",
              "            title=\"Convert this dataframe to an interactive table.\"\n",
              "            style=\"display:none;\">\n",
              "\n",
              "  <svg xmlns=\"http://www.w3.org/2000/svg\" height=\"24px\" viewBox=\"0 -960 960 960\">\n",
              "    <path d=\"M120-120v-720h720v720H120Zm60-500h600v-160H180v160Zm220 220h160v-160H400v160Zm0 220h160v-160H400v160ZM180-400h160v-160H180v160Zm440 0h160v-160H620v160ZM180-180h160v-160H180v160Zm440 0h160v-160H620v160Z\"/>\n",
              "  </svg>\n",
              "    </button>\n",
              "\n",
              "  <style>\n",
              "    .colab-df-container {\n",
              "      display:flex;\n",
              "      gap: 12px;\n",
              "    }\n",
              "\n",
              "    .colab-df-convert {\n",
              "      background-color: #E8F0FE;\n",
              "      border: none;\n",
              "      border-radius: 50%;\n",
              "      cursor: pointer;\n",
              "      display: none;\n",
              "      fill: #1967D2;\n",
              "      height: 32px;\n",
              "      padding: 0 0 0 0;\n",
              "      width: 32px;\n",
              "    }\n",
              "\n",
              "    .colab-df-convert:hover {\n",
              "      background-color: #E2EBFA;\n",
              "      box-shadow: 0px 1px 2px rgba(60, 64, 67, 0.3), 0px 1px 3px 1px rgba(60, 64, 67, 0.15);\n",
              "      fill: #174EA6;\n",
              "    }\n",
              "\n",
              "    .colab-df-buttons div {\n",
              "      margin-bottom: 4px;\n",
              "    }\n",
              "\n",
              "    [theme=dark] .colab-df-convert {\n",
              "      background-color: #3B4455;\n",
              "      fill: #D2E3FC;\n",
              "    }\n",
              "\n",
              "    [theme=dark] .colab-df-convert:hover {\n",
              "      background-color: #434B5C;\n",
              "      box-shadow: 0px 1px 3px 1px rgba(0, 0, 0, 0.15);\n",
              "      filter: drop-shadow(0px 1px 2px rgba(0, 0, 0, 0.3));\n",
              "      fill: #FFFFFF;\n",
              "    }\n",
              "  </style>\n",
              "\n",
              "    <script>\n",
              "      const buttonEl =\n",
              "        document.querySelector('#df-c814fee0-736d-4d27-a214-b8548d6b79c9 button.colab-df-convert');\n",
              "      buttonEl.style.display =\n",
              "        google.colab.kernel.accessAllowed ? 'block' : 'none';\n",
              "\n",
              "      async function convertToInteractive(key) {\n",
              "        const element = document.querySelector('#df-c814fee0-736d-4d27-a214-b8548d6b79c9');\n",
              "        const dataTable =\n",
              "          await google.colab.kernel.invokeFunction('convertToInteractive',\n",
              "                                                    [key], {});\n",
              "        if (!dataTable) return;\n",
              "\n",
              "        const docLinkHtml = 'Like what you see? Visit the ' +\n",
              "          '<a target=\"_blank\" href=https://colab.research.google.com/notebooks/data_table.ipynb>data table notebook</a>'\n",
              "          + ' to learn more about interactive tables.';\n",
              "        element.innerHTML = '';\n",
              "        dataTable['output_type'] = 'display_data';\n",
              "        await google.colab.output.renderOutput(dataTable, element);\n",
              "        const docLink = document.createElement('div');\n",
              "        docLink.innerHTML = docLinkHtml;\n",
              "        element.appendChild(docLink);\n",
              "      }\n",
              "    </script>\n",
              "  </div>\n",
              "\n",
              "\n",
              "<div id=\"df-09837649-9896-4a41-90d0-590d91e23b90\">\n",
              "  <button class=\"colab-df-quickchart\" onclick=\"quickchart('df-09837649-9896-4a41-90d0-590d91e23b90')\"\n",
              "            title=\"Suggest charts\"\n",
              "            style=\"display:none;\">\n",
              "\n",
              "<svg xmlns=\"http://www.w3.org/2000/svg\" height=\"24px\"viewBox=\"0 0 24 24\"\n",
              "     width=\"24px\">\n",
              "    <g>\n",
              "        <path d=\"M19 3H5c-1.1 0-2 .9-2 2v14c0 1.1.9 2 2 2h14c1.1 0 2-.9 2-2V5c0-1.1-.9-2-2-2zM9 17H7v-7h2v7zm4 0h-2V7h2v10zm4 0h-2v-4h2v4z\"/>\n",
              "    </g>\n",
              "</svg>\n",
              "  </button>\n",
              "\n",
              "<style>\n",
              "  .colab-df-quickchart {\n",
              "      --bg-color: #E8F0FE;\n",
              "      --fill-color: #1967D2;\n",
              "      --hover-bg-color: #E2EBFA;\n",
              "      --hover-fill-color: #174EA6;\n",
              "      --disabled-fill-color: #AAA;\n",
              "      --disabled-bg-color: #DDD;\n",
              "  }\n",
              "\n",
              "  [theme=dark] .colab-df-quickchart {\n",
              "      --bg-color: #3B4455;\n",
              "      --fill-color: #D2E3FC;\n",
              "      --hover-bg-color: #434B5C;\n",
              "      --hover-fill-color: #FFFFFF;\n",
              "      --disabled-bg-color: #3B4455;\n",
              "      --disabled-fill-color: #666;\n",
              "  }\n",
              "\n",
              "  .colab-df-quickchart {\n",
              "    background-color: var(--bg-color);\n",
              "    border: none;\n",
              "    border-radius: 50%;\n",
              "    cursor: pointer;\n",
              "    display: none;\n",
              "    fill: var(--fill-color);\n",
              "    height: 32px;\n",
              "    padding: 0;\n",
              "    width: 32px;\n",
              "  }\n",
              "\n",
              "  .colab-df-quickchart:hover {\n",
              "    background-color: var(--hover-bg-color);\n",
              "    box-shadow: 0 1px 2px rgba(60, 64, 67, 0.3), 0 1px 3px 1px rgba(60, 64, 67, 0.15);\n",
              "    fill: var(--button-hover-fill-color);\n",
              "  }\n",
              "\n",
              "  .colab-df-quickchart-complete:disabled,\n",
              "  .colab-df-quickchart-complete:disabled:hover {\n",
              "    background-color: var(--disabled-bg-color);\n",
              "    fill: var(--disabled-fill-color);\n",
              "    box-shadow: none;\n",
              "  }\n",
              "\n",
              "  .colab-df-spinner {\n",
              "    border: 2px solid var(--fill-color);\n",
              "    border-color: transparent;\n",
              "    border-bottom-color: var(--fill-color);\n",
              "    animation:\n",
              "      spin 1s steps(1) infinite;\n",
              "  }\n",
              "\n",
              "  @keyframes spin {\n",
              "    0% {\n",
              "      border-color: transparent;\n",
              "      border-bottom-color: var(--fill-color);\n",
              "      border-left-color: var(--fill-color);\n",
              "    }\n",
              "    20% {\n",
              "      border-color: transparent;\n",
              "      border-left-color: var(--fill-color);\n",
              "      border-top-color: var(--fill-color);\n",
              "    }\n",
              "    30% {\n",
              "      border-color: transparent;\n",
              "      border-left-color: var(--fill-color);\n",
              "      border-top-color: var(--fill-color);\n",
              "      border-right-color: var(--fill-color);\n",
              "    }\n",
              "    40% {\n",
              "      border-color: transparent;\n",
              "      border-right-color: var(--fill-color);\n",
              "      border-top-color: var(--fill-color);\n",
              "    }\n",
              "    60% {\n",
              "      border-color: transparent;\n",
              "      border-right-color: var(--fill-color);\n",
              "    }\n",
              "    80% {\n",
              "      border-color: transparent;\n",
              "      border-right-color: var(--fill-color);\n",
              "      border-bottom-color: var(--fill-color);\n",
              "    }\n",
              "    90% {\n",
              "      border-color: transparent;\n",
              "      border-bottom-color: var(--fill-color);\n",
              "    }\n",
              "  }\n",
              "</style>\n",
              "\n",
              "  <script>\n",
              "    async function quickchart(key) {\n",
              "      const quickchartButtonEl =\n",
              "        document.querySelector('#' + key + ' button');\n",
              "      quickchartButtonEl.disabled = true;  // To prevent multiple clicks.\n",
              "      quickchartButtonEl.classList.add('colab-df-spinner');\n",
              "      try {\n",
              "        const charts = await google.colab.kernel.invokeFunction(\n",
              "            'suggestCharts', [key], {});\n",
              "      } catch (error) {\n",
              "        console.error('Error during call to suggestCharts:', error);\n",
              "      }\n",
              "      quickchartButtonEl.classList.remove('colab-df-spinner');\n",
              "      quickchartButtonEl.classList.add('colab-df-quickchart-complete');\n",
              "    }\n",
              "    (() => {\n",
              "      let quickchartButtonEl =\n",
              "        document.querySelector('#df-09837649-9896-4a41-90d0-590d91e23b90 button');\n",
              "      quickchartButtonEl.style.display =\n",
              "        google.colab.kernel.accessAllowed ? 'block' : 'none';\n",
              "    })();\n",
              "  </script>\n",
              "</div>\n",
              "    </div>\n",
              "  </div>\n"
            ],
            "application/vnd.google.colaboratory.intrinsic+json": {
              "type": "dataframe",
              "variable_name": "predicted_manpower",
              "summary": "{\n  \"name\": \"predicted_manpower\",\n  \"rows\": 66,\n  \"fields\": [\n    {\n      \"column\": \"Year\",\n      \"properties\": {\n        \"dtype\": \"number\",\n        \"std\": 3,\n        \"min\": 2012,\n        \"max\": 2022,\n        \"num_unique_values\": 11,\n        \"samples\": [\n          2017,\n          2012,\n          2021\n        ],\n        \"semantic_type\": \"\",\n        \"description\": \"\"\n      }\n    },\n    {\n      \"column\": \"Manpower Level\",\n      \"properties\": {\n        \"dtype\": \"category\",\n        \"num_unique_values\": 6,\n        \"samples\": [\n          \"Housemaid\",\n          \"Skilled\",\n          \"Unskilled\"\n        ],\n        \"semantic_type\": \"\",\n        \"description\": \"\"\n      }\n    },\n    {\n      \"column\": \"Value\",\n      \"properties\": {\n        \"dtype\": \"number\",\n        \"std\": 13211,\n        \"min\": 4445,\n        \"max\": 119052,\n        \"num_unique_values\": 66,\n        \"samples\": [\n          59986,\n          59386,\n          119052\n        ],\n        \"semantic_type\": \"\",\n        \"description\": \"\"\n      }\n    }\n  ]\n}"
            }
          },
          "metadata": {},
          "execution_count": 160
        }
      ]
    },
    {
      "source": [
        "from matplotlib import pyplot as plt\n",
        "import seaborn as sns\n",
        "def _plot_series(series, series_name, series_index=0):\n",
        "  from matplotlib import pyplot as plt\n",
        "  import seaborn as sns\n",
        "  palette = list(sns.palettes.mpl_palette('Dark2'))\n",
        "  xs = series['Year']\n",
        "  ys = series['Value']\n",
        "\n",
        "  plt.plot(xs, ys, label=series_name, color=palette[series_index % len(palette)])\n",
        "\n",
        "fig, ax = plt.subplots(figsize=(10, 5.2), layout='constrained')\n",
        "df_sorted = predicted_manpower.sort_values('Year', ascending=True)\n",
        "for i, (series_name, series) in enumerate(df_sorted.groupby('Manpower Level')):\n",
        "  _plot_series(series, series_name, i)\n",
        "  fig.legend(title='Manpower Level', bbox_to_anchor=(1, 1), loc='upper left')\n",
        "sns.despine(fig=fig, ax=ax)\n",
        "plt.xlabel('Year')\n",
        "_ = plt.ylabel('Value')"
      ],
      "cell_type": "code",
      "metadata": {
        "colab": {
          "base_uri": "https://localhost:8080/",
          "height": 548
        },
        "id": "OVpZ5aXYc4Do",
        "outputId": "30967ab6-801e-499a-b178-eea15e9d47c3"
      },
      "execution_count": 161,
      "outputs": [
        {
          "output_type": "display_data",
          "data": {
            "text/plain": [
              "<Figure size 1000x520 with 1 Axes>"
            ],
            "image/png": "[encoded data removed]"
          },
          "metadata": {}
        }
      ]
    },
    {
      "cell_type": "code",
      "source": [
        "# Plot using Seaborn\n",
        "plt.figure(figsize=(12, 6))\n",
        "sns.lineplot(data=df_manpower, x='Year', y='Value', hue='Manpower Level')\n",
        "plt.title('Departure for Foreign Employment by Manpower Level 1994 - 2012')\n",
        "plt.xlabel('Year')\n",
        "plt.ylabel('Value')\n",
        "plt.legend(title='Manpower Level', bbox_to_anchor=(1.05, 1), loc='upper left')\n",
        "plt.tight_layout()\n",
        "plt.show()"
      ],
      "metadata": {
        "colab": {
          "base_uri": "https://localhost:8080/",
          "height": 607
        },
        "id": "RG7Scezpz8UL",
        "outputId": "a67c25bc-137b-4780-ea9d-bddb1792bbfc"
      },
      "execution_count": 162,
      "outputs": [
        {
          "output_type": "display_data",
          "data": {
            "text/plain": [
              "<Figure size 1200x600 with 1 Axes>"
            ],
            "image/png": "[encoded data removed]"
          },
          "metadata": {}
        }
      ]
    },
    {
      "cell_type": "code",
      "source": [
        "\n",
        "# Pivot the 'Manpower Level' column into separate columns\n",
        "pivoted_df = df_manpower.pivot_table(index='Year', columns='Manpower Level', values='Value', aggfunc='sum')\n",
        "\n",
        "# Reset the index to make 'Year' a regular column\n",
        "# pivoted_df.reset_index(inplace=True)\n",
        "# pivoted_df.drop('Manpower Level',axis=1,inplace=True)\n",
        "\n",
        "# Print the pivoted DataFrame\n",
        "print(pivoted_df)"
      ],
      "metadata": {
        "colab": {
          "base_uri": "https://localhost:8080/"
        },
        "id": "pFeiTs3-iMu2",
        "outputId": "b94e4af8-bcac-4523-87c3-158ac5079165"
      },
      "execution_count": 163,
      "outputs": [
        {
          "output_type": "stream",
          "name": "stdout",
          "text": [
            "Manpower Level  Clerical & Related  Housemaid  Middle  Professional  Skilled  \\\n",
            "Year                                                                           \n",
            "1994                          1559      36104     833           262    12586   \n",
            "1995                          4594     113860    2495           878    27165   \n",
            "1996                          3371     110479    1944           599    24254   \n",
            "1997                          3579      99429    1635           573    24502   \n",
            "1998                          4896      85349    2823           695    31749   \n",
            "1999                          6210      88063    3161          1253    37277   \n",
            "2000                          5825      99413    3781           935    36475   \n",
            "2001                          6015     102850    3776          1218    36763   \n",
            "2002                          7239     108535    4555          1481    45478   \n",
            "2003                          6779     102011    7507          1541    47744   \n",
            "2004                          6679     110512    6561          1827    45926   \n",
            "2005                          7742     125493    8042          1421    46688   \n",
            "2006                          7911      99711    6638          1713    45063   \n",
            "2007                          4551     102355    3962          1653    50263   \n",
            "2008                          6791     107923    8667          2835    59718   \n",
            "2009                          6719     113678    6388          2832    61321   \n",
            "2010                          7923     112752    6884          3057    71537   \n",
            "2011                          9906     107491    6134          3844    67726   \n",
            "2012                         16166     119052    9278          4445    67078   \n",
            "\n",
            "Manpower Level  Unskilled  \n",
            "Year                       \n",
            "1994                 8824  \n",
            "1995                23497  \n",
            "1996                21929  \n",
            "1997                20565  \n",
            "1998                34304  \n",
            "1999                43771  \n",
            "2000                35759  \n",
            "2001                33385  \n",
            "2002                36485  \n",
            "2003                44264  \n",
            "2004                43204  \n",
            "2005                41904  \n",
            "2006                40912  \n",
            "2007                52176  \n",
            "2008                59239  \n",
            "2009                50173  \n",
            "2010                60422  \n",
            "2011                63680  \n",
            "2012                62847  \n"
          ]
        }
      ]
    },
    {
      "cell_type": "code",
      "source": [
        "pivoted_df.columns"
      ],
      "metadata": {
        "colab": {
          "base_uri": "https://localhost:8080/"
        },
        "id": "E3akjNSmjOtT",
        "outputId": "356e01ea-75f1-4ad1-8421-47567baa252d"
      },
      "execution_count": 164,
      "outputs": [
        {
          "output_type": "execute_result",
          "data": {
            "text/plain": [
              "Index(['Clerical & Related', 'Housemaid', 'Middle', 'Professional', 'Skilled',\n",
              "       'Unskilled'],\n",
              "      dtype='object', name='Manpower Level')"
            ]
          },
          "metadata": {},
          "execution_count": 164
        }
      ]
    },
    {
      "cell_type": "code",
      "source": [
        "# Create a figure and set the figure size\n",
        "fig, ax = plt.subplots(figsize=(12, 8))\n",
        "\n",
        "# Plot the DataFrame\n",
        "pivoted_df.plot(kind='barh', stacked=True, ax=ax, color=['blue', 'teal', 'plum', 'aqua', 'purple', 'sienna'])\n",
        "\n",
        "# Add title and labels\n",
        "plt.title('Departure for Foreign Employment by Manpower Level 1994 - 2012')\n",
        "plt.xlabel('Year')\n",
        "plt.ylabel('Value')\n",
        "\n",
        "# Adjust the legend position\n",
        "plt.legend(title='Manpower Level', bbox_to_anchor=(1.05, 1), loc='upper left')\n",
        "\n",
        "# # Calculate the total for each bar\n",
        "# totals = pivoted_df.sum(axis=0)\n",
        "\n",
        "# # Get the positions of the last bars (assuming data is stacked)\n",
        "# last_bar_positions = [bar.get_x() + bar.get_width() for bar in ax.containers[-1]]\n",
        "\n",
        "# # Iterate through totals and positions, adding text annotations\n",
        "# for position, total in zip(last_bar_positions, totals):\n",
        "#     plt.text(position + 0.1, ax.get_ylim()[1] * 0.05, f\"Total: {total:.2f}\", ha='left', va='bottom')\n",
        "\n",
        "# Automatically adjust subplot parameters to give specified padding\n",
        "plt.tight_layout()\n",
        "\n",
        "# Show the plot\n",
        "plt.show()"
      ],
      "metadata": {
        "colab": {
          "base_uri": "https://localhost:8080/",
          "height": 807
        },
        "id": "sS7u8zfQ6_MC",
        "outputId": "aae2d9cc-5ae7-40d0-a1c4-cb12d453c3f3"
      },
      "execution_count": 173,
      "outputs": [
        {
          "output_type": "display_data",
          "data": {
            "text/plain": [
              "<Figure size 1200x800 with 1 Axes>"
            ],
            "image/png": "[encoded data removed]"
          },
          "metadata": {}
        }
      ]
    },
    {
      "cell_type": "code",
      "source": [
        "total = (4445+9278+16166+67078)/282331\n",
        "print(total*100)"
      ],
      "metadata": {
        "colab": {
          "base_uri": "https://localhost:8080/"
        },
        "id": "4sio-u2tiLP8",
        "outputId": "5cb9a62e-4d32-4724-f91b-7910a3f3c30b"
      },
      "execution_count": 177,
      "outputs": [
        {
          "output_type": "stream",
          "name": "stdout",
          "text": [
            "34.34514807088134\n"
          ]
        }
      ]
    },
    {
      "cell_type": "code",
      "source": [
        "4445+9278+16166+67078"
      ],
      "metadata": {
        "colab": {
          "base_uri": "https://localhost:8080/"
        },
        "id": "bBkTQVs36r0r",
        "outputId": "e6729014-9763-41fb-b1b8-a14132e9be73"
      },
      "execution_count": 179,
      "outputs": [
        {
          "output_type": "execute_result",
          "data": {
            "text/plain": [
              "96967"
            ]
          },
          "metadata": {},
          "execution_count": 179
        }
      ]
    },
    {
      "cell_type": "code",
      "source": [
        "total = (3844+6134+9906+67726)/282331\n",
        "print(total*100)"
      ],
      "metadata": {
        "colab": {
          "base_uri": "https://localhost:8080/"
        },
        "id": "gqKYQGyk3gcp",
        "outputId": "d4ebdc36-41fb-4efa-8f82-203fa3f43606"
      },
      "execution_count": 178,
      "outputs": [
        {
          "output_type": "stream",
          "name": "stdout",
          "text": [
            "31.030953030308396\n"
          ]
        }
      ]
    }
  ],
  "metadata": {
    "colab": {
      "provenance": [],
      "mount_file_id": "1WeqGM4wdND0sDXpj7UIWP4nHdFHh97yk",
      "authorship_tag": "ABX9TyNeohxRjhWkSFxHKvaMXGUl",
      "include_colab_link": true
    },
    "kernelspec": {
      "display_name": "Python 3",
      "name": "python3"
    },
    "language_info": {
      "name": "python"
    }
  },
  "nbformat": 4,
  "nbformat_minor": 0
}